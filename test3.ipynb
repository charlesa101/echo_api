{
 "cells": [
  {
   "cell_type": "markdown",
   "metadata": {},
   "source": [
    "I attempt to add a ContactLog doing the following:"
   ]
  },
  {
   "cell_type": "code",
   "execution_count": null,
   "metadata": {
    "collapsed": true
   },
   "outputs": [],
   "source": [
    "self.client.service.API_UpdateData('6e1a9857749a461ba89d7774e9687d85', \n",
    "                                   'Locations', 'Provider', 'CallLog', \n",
    "                                   'Symed', '@EntityGuid|60e04aba-f548-41c6-9194-4c5dde6d4359|guid',\n",
    "                                   updated_schema)"
   ]
  },
  {
   "cell_type": "markdown",
   "metadata": {},
   "source": [
    "'Error: Error:SymedData.UpdateDataSpecified cast is not valid.'"
   ]
  },
  {
   "cell_type": "markdown",
   "metadata": {},
   "source": [
    "This is what my `updated_schema` looks like"
   ]
  },
  {
   "cell_type": "code",
   "execution_count": 11,
   "metadata": {},
   "outputs": [
    {
     "name": "stdout",
     "output_type": "stream",
     "text": [
      "<SchemaandData xmlns:ns1=\"urn:schemas-microsoft-com:xml-msdata\" xmlns:xs=\"http://www.w3.org/2001/XMLSchema\">\n",
      " <xs:schema id=\"NewDataSet\">\n",
      "   <xs:element name=\"NewDataSet\" ns1:IsDataSet=\"true\" ns1:UseCurrentLocale=\"true\">\n",
      "     <xs:complexType>\n",
      "       <xs:choice maxOccurs=\"unbounded\" minOccurs=\"0\">\n",
      "         <xs:element name=\"Table\">\n",
      "           <xs:complexType>\n",
      "             <xs:sequence>\n",
      "               <xs:element minOccurs=\"0\" name=\"SECURITY_CONTEXT\" type=\"xs:string\" />\n",
      "                <xs:element minOccurs=\"0\" name=\"CallID\" type=\"xs:int\" />\n",
      "                <xs:element minOccurs=\"0\" name=\"ContactDate\" type=\"xs:dateTime\" ns1:DateTimeMode=\"Unspecified\" />\n",
      "                <xs:element minOccurs=\"0\" name=\"FollowUpDate\" type=\"xs:dateTime\" ns1:DateTimeMode=\"Unspecified\" />\n",
      "                <xs:element minOccurs=\"0\" name=\"FollowUpCompleted\" type=\"xs:boolean\" />\n",
      "                <xs:element minOccurs=\"0\" name=\"ContactLogTypeID\" type=\"xs:int\" />\n",
      "                <xs:element minOccurs=\"0\" name=\"Notes\" type=\"xs:string\" />\n",
      "                <xs:element minOccurs=\"0\" name=\"ContactID\" type=\"xs:int\" />\n",
      "                <xs:element minOccurs=\"0\" name=\"Notified\" type=\"xs:int\" />\n",
      "                <xs:element minOccurs=\"0\" name=\"UserDisplayName\" type=\"xs:string\" />\n",
      "                <xs:element minOccurs=\"0\" name=\"EMail\" type=\"xs:string\" />\n",
      "                <xs:element minOccurs=\"0\" name=\"Phone\" type=\"xs:string\" />\n",
      "                <xs:element minOccurs=\"0\" name=\"ContactName\" type=\"xs:string\" />\n",
      "                <xs:element minOccurs=\"0\" name=\"Attachment\" type=\"xs:string\" />\n",
      "                <xs:element minOccurs=\"0\" name=\"TrackingGuid\" type=\"xs:string\" ns1:DataType=\"System.Guid, mscorlib, Version=4.0.0.0, Culture=neutral, PublicKeyToken=b77a5c561934e089\" />\n",
      "                <xs:element minOccurs=\"0\" name=\"EntityGuid\" type=\"xs:string\" ns1:DataType=\"System.Guid, mscorlib, Version=4.0.0.0, Culture=neutral, PublicKeyToken=b77a5c561934e089\" />\n",
      "                <xs:element minOccurs=\"0\" name=\"Subject\" type=\"xs:string\" />\n",
      "                <xs:element minOccurs=\"0\" name=\"grid_sort\" type=\"xs:string\" />\n",
      "              </xs:sequence>\n",
      "            </xs:complexType>\n",
      "          </xs:element>\n",
      "          <xs:element name=\"Table1\">\n",
      "           <xs:complexType>\n",
      "             <xs:sequence>\n",
      "               <xs:element minOccurs=\"0\" name=\"CallID\" type=\"xs:int\" />\n",
      "                <xs:element minOccurs=\"0\" name=\"TimeEdited\" type=\"xs:base64Binary\" />\n",
      "                <xs:element minOccurs=\"0\" name=\"Subject\" type=\"xs:string\" />\n",
      "              </xs:sequence>\n",
      "            </xs:complexType>\n",
      "          </xs:element>\n",
      "        </xs:choice>\n",
      "      </xs:complexType>\n",
      "    </xs:element>\n",
      "  </xs:schema>\n",
      "  <NewDataSet>\n",
      "   <Table>\n",
      "     <EntityGuid>60e04aba-f548-41c6-9194-4c5dde6d4359</EntityGuid>\n",
      "      <CallID>0</CallID>\n",
      "      <ContactID>0</ContactID>\n",
      "      <ContactDate>2017-09-05T21:07:01</ContactDate>\n",
      "      <Notes>Hi I am a note</Notes>\n",
      "    </Table>\n",
      "    <Table1>\n",
      "     <CallID>0</CallID>\n",
      "      <Subject>Testing</Subject>\n",
      "    </Table1>\n",
      "  </NewDataSet>\n",
      "</SchemaandData>\n",
      "\n"
     ]
    }
   ],
   "source": [
    "connection.add_contact_log_entry(307, Notes=\"Hi I am a note\", Subject=\"Testing\")"
   ]
  }
 ],
 "metadata": {
  "kernelspec": {
   "display_name": "Python 3",
   "language": "python",
   "name": "python3"
  },
  "language_info": {
   "codemirror_mode": {
    "name": "ipython",
    "version": 3
   },
   "file_extension": ".py",
   "mimetype": "text/x-python",
   "name": "python",
   "nbconvert_exporter": "python",
   "pygments_lexer": "ipython3",
   "version": "3.6.2"
  }
 },
 "nbformat": 4,
 "nbformat_minor": 2
}
