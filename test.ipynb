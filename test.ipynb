{
 "cells": [
  {
   "cell_type": "code",
   "execution_count": 18,
   "metadata": {},
   "outputs": [],
   "source": [
    "import os\n",
    "os.environ['ECHO_SECRETS_LOCATION'] = '/home/jjorissen/echo_secrets.conf'"
   ]
  },
  {
   "cell_type": "code",
   "execution_count": 210,
   "metadata": {},
   "outputs": [],
   "source": [
    "from echo_api import Connection, Settings, APICallError\n",
    "from xmlmanip import XMLSchema\n",
    "import xml.etree.ElementTree as ET\n",
    "from requests import Session\n",
    "from functools import wraps\n",
    "import moment\n",
    "\n",
    "from zeep import Client\n",
    "from zeep.transports import Transport\n"
   ]
  },
  {
   "cell_type": "code",
   "execution_count": 211,
   "metadata": {
    "collapsed": true
   },
   "outputs": [],
   "source": [
    "def handle_response(method):\n",
    "    @wraps(method)\n",
    "    def _impl(self, *method_args, **method_kwargs):\n",
    "        response = method(self, *method_args, **method_kwargs)\n",
    "        if \"Error|\" in response:\n",
    "            raise APICallError(response)\n",
    "        else:\n",
    "            return response\n",
    "    return _impl"
   ]
  },
  {
   "cell_type": "code",
   "execution_count": 251,
   "metadata": {},
   "outputs": [],
   "source": [
    "class Connection:\n",
    "    \n",
    "    def __init__(self, settings=Settings()):\n",
    "        self.endpoint = settings.ENDPOINT\n",
    "        self.session = Session()\n",
    "        self.client = Client(settings.WSDL_LOCATION, transport=Transport(session=self.session))\n",
    "        if \"Success\" in self.client.service.API_Test():\n",
    "            self.session_id = self.client.service.API_Login(settings.USERNAME, settings.PASSWORD).split(\"|\")[1]\n",
    "        else:\n",
    "            raise APITestFailError(\"Test connection failed.\")\n",
    "\n",
    "    \"\"\"\n",
    "    Helper Methods\n",
    "    \"\"\"\n",
    "\n",
    "    def _search_schema(self, schema_str, show_all=True, **kwarg):\n",
    "        schema = XMLSchema(schema_str)\n",
    "        paths = schema.locate(**kwarg)\n",
    "        items = [schema.retrieve('__'.join(path.split('__')[:-1])) for path in paths]\n",
    "        kwarg_key = list(kwarg.keys())[0].split('__')[0]\n",
    "        sorted_list = sorted(items, key=lambda x: int(x[kwarg_key])) if show_all else \\\n",
    "        sorted(items, key=lambda x: int(x[kwarg_key]))[-1]\n",
    "        return sorted_list\n",
    "\n",
    "    @handle_response\n",
    "    def _get_physician_guid(self, physician_id):\n",
    "        qs = f\"SELECT * FROM PhysicianDetail WHERE PhysicianID={physician_id}\"\n",
    "        schema_str = self.client.service.API_GeneralQuery(self.session_id, qs, \"\")\n",
    "        schema = XMLSchema(schema_str)\n",
    "        paths = schema.locate(PhysicianID__ne='-1')\n",
    "        physicians = [schema.retrieve('__'.join(path.split('__')[:-1])) for path in paths]\n",
    "        if len(physicians) > 0:\n",
    "            physician = sorted(physicians, key=lambda x: int(x['PhysicianID']), reverse=True)[0]\n",
    "        else:\n",
    "            raise APICallError(f'No Physicians matching id {physician_id}')\n",
    "        return physician[\"EntityGuid\"]\n",
    "    \n",
    "    @staticmethod\n",
    "    def _indent(elem, level=0):\n",
    "        i = f\"\\n{level*'  '}\"\n",
    "        if len(elem):\n",
    "            if not elem.text or not elem.text.strip():\n",
    "                elem.text = f\"{i} \"\n",
    "            if not elem.tail or not elem.tail.strip():\n",
    "                elem.tail = i\n",
    "            for elem in elem:\n",
    "                indent(elem, level+1)\n",
    "            if not elem.tail or not elem.tail.strip():\n",
    "                elem.tail = i\n",
    "        else:\n",
    "            if level and (not elem.tail or not elem.tail.strip()):\n",
    "                elem.tail = i\n",
    "            \n",
    "    @staticmethod\n",
    "    def _pretty_print(schema_str):\n",
    "        root = ET.fromstring(schema_str)\n",
    "        tree = ET.ElementTree(root)\n",
    "        Connection._indent(root)\n",
    "        print(str(ET.tostring(root), 'utf-8'))\n",
    "\n",
    "    \"\"\"\n",
    "    Add Stuff\n",
    "    \"\"\"\n",
    "\n",
    "    @handle_response\n",
    "    def add_physician(self, office_id, **kwargs):\n",
    "        args = [self.session_id, \"Locations\", \"Provider\", \"PhysicianDetail_Create\", 5, f\"@OfficeID|{office_id}|int\"]\n",
    "        result = self.client.service.API_TreeDataCommand(*args)\n",
    "        if \"Error|\" in result:\n",
    "            raise APICallError(result)\n",
    "        else:\n",
    "            if len(kwargs) != 0:\n",
    "                physician_id = result.split(\"|\")[1]\n",
    "                return self.edit_physician(physician_id, **kwargs)\n",
    "            else:\n",
    "                return result\n",
    "            \n",
    "    def add_contact_log_entry(self, physician_id, **kwargs):\n",
    "        if 'Notes' not in kwargs.keys():\n",
    "            raise APICallError(f'You must add a note to contact log entries.')\n",
    "        guid = self._get_physician_guid(physician_id)\n",
    "        log_data = self.get_contact_log(physician_id)\n",
    "        schema_and_data = ET.fromstring(log_data)\n",
    "        kwargs2 = {'CallID': len(schema_and_data[1])//2, 'Subject': kwargs.pop('Subject')}\n",
    "        kwargs1 = {\n",
    "            'EntityGuid': guid, 'CallID': len(schema_and_data[1])//2, 'ContactID': 0,\n",
    "            'ContactDate': moment.utcnow().strftime(\"%Y-%m-%dT%H:%M:%S\"), **kwargs\n",
    "        }\n",
    "        for i, (key, value) in enumerate(kwargs1.items()):\n",
    "            if i == 0:\n",
    "                new_table1 = ET.SubElement(schema_and_data[1], 'Table')\n",
    "            new_attr = ET.SubElement(new_table1, key)\n",
    "            new_attr.text = f'{value}'\n",
    "        for i, (key, value) in enumerate(kwargs2.items()):\n",
    "            if i == 0:\n",
    "                new_table2 = ET.SubElement(schema_and_data[1], 'Table1')\n",
    "            new_attr = ET.SubElement(new_table2, key)\n",
    "            new_attr.text = f'{value}'    \n",
    "        updated_schema = str(ET.tostring(schema_and_data), 'utf-8')\n",
    "        Connection._pretty_print(updated_schema)\n",
    "        args = [self.session_id, \"Locations\", \"Provider\", \"CallLog\", \"Symed\", \n",
    "                f'@EntityGuid|{guid}|guid', updated_schema]\n",
    "        return self.client.service.API_UpdateData(*args)\n",
    "\n",
    "    @handle_response\n",
    "    def add_office(self, practice_id=\"\"):\n",
    "        if not practice_id:\n",
    "            raise APICallError(\"You must provide a practice_id with which to associate this office.\")\n",
    "        args = [self.session_id, \"Locations\", \"Office\", \"Offices_Create\", 5, f\"@PracticeID|{practice_id}|int\"]\n",
    "        return self.client.service.API_TreeDataCommand(*args)\n",
    "    \n",
    "\n",
    "    \"\"\"\n",
    "    Edit Stuff\n",
    "    \"\"\"\n",
    "\n",
    "    @handle_response\n",
    "    def edit_physician(self, physician_id, **kwargs):\n",
    "        physician = self.get_physician(physician_id)\n",
    "        schema_and_data = ET.fromstring(physician)\n",
    "        for key, value in kwargs.items():\n",
    "            if schema_and_data[1][0].find(key) is None:\n",
    "                new_attr = ET.SubElement(schema_and_data[1][0], key)\n",
    "                new_attr.text = value\n",
    "            else:\n",
    "                schema_and_data[1][0].find(key).text = f'{value}'\n",
    "        updated_schema = ET.tostring(schema_and_data)\n",
    "        args = [self.session_id, \"Locations\", \"Provider\", \"PhysicianDetail\",\n",
    "                \"Symed\", f\"@PhysicianID|{physician_id}|int\", updated_schema]\n",
    "        return self.client.service.API_UpdateData(*args)\n",
    "\n",
    "    \"\"\"\n",
    "    Delete Stuff\n",
    "    \"\"\"\n",
    "\n",
    "    @handle_response\n",
    "    def delete_physician(self, physician_id=\"\", office_id=\"\"):\n",
    "        if not (physician_id and office_id):\n",
    "            raise APICallError(\"You must specify both the physician_id and office_id.\")\n",
    "        args = [self.session_id, \"Locations\", \"Provider\", \"PhysicianDetail_Delete\", 6,\n",
    "                f\"@PhysicianID|{physician_id}|int@OfficeID|{office_id}|int\"]\n",
    "        return self.client.service.API_TreeDataCommand(*args)\n",
    "\n",
    "    @handle_response\n",
    "    def delete_office(self, office_id=\"\"):\n",
    "        if not office_id:\n",
    "            raise APICallError(\"You must specify the office_id.\")\n",
    "        args = [self.session_id, \"Locations\", \"Office\", \"Offices_Delete\", 6,\n",
    "                f\"@OfficeID|{office_id}|int\"]\n",
    "        return self.client.service.API_TreeDataCommand(*args)\n",
    "\n",
    "    \"\"\"\n",
    "    Get Stuff\n",
    "    \"\"\"\n",
    "\n",
    "    @handle_response\n",
    "    def get_physician(self, physician_id):\n",
    "        args = [self.session_id, \"PhysicianDetail\", \"Symed\", f\"@PhysicianID|{physician_id}|int\"]\n",
    "        return self.client.service.API_GetData(*args)\n",
    "\n",
    "    @handle_response\n",
    "    def get_office(self, office_id):\n",
    "        args = [self.session_id, \"Office\", \"Symed\", f\"@OfficeID|{office_id}|int\"]\n",
    "        return self.client.service.API_GetData(*args)\n",
    "\n",
    "    @handle_response\n",
    "    def get_contact_log(self, physician_id):\n",
    "        guid = self._get_physician_guid(physician_id)\n",
    "        args = [self.session_id, \"CallLog\", \"Symed\", f'@EntityGuid|{guid}|guid']\n",
    "        return self.client.service.API_GetData(*args)\n",
    "\n",
    "    \"\"\"\n",
    "    Show Stuff\n",
    "    \"\"\"\n",
    "\n",
    "    @handle_response\n",
    "    def show_physician(self, physician_id):\n",
    "        args = [self.session_id, \"PhysicianDetail\", \"Symed\", f\"@PhysicianID|{physician_id}|int\"]\n",
    "        schema_str = self.client.service.API_GetData(*args)\n",
    "        return self._search_schema(schema_str, PhysicianID__ne=-1)\n",
    "\n",
    "    @handle_response\n",
    "    def show_office(self, office_id):\n",
    "        args = [self.session_id, \"Office\", \"Symed\", f\"@OfficeID|{office_id}|int\"]\n",
    "        schema_str = self.client.service.API_GetData(*args)\n",
    "        return self._search_schema(schema_str, show_all=False, OfficeID__ne=-1)\n",
    "\n",
    "    @handle_response\n",
    "    def show_latest_office(self):\n",
    "        qs = \"SELECT * FROM Offices\"\n",
    "        schema_str = self.client.service.API_GeneralQuery(self.session_id, qs, \"\")\n",
    "        return self._search_schema(schema_str, show_all=False, OfficeID__ne=-1)\n",
    "\n",
    "    @handle_response\n",
    "    def show_latest_practice(self):\n",
    "        qs = \"SELECT * FROM Offices WHERE OfficeID = PracticeID\"\n",
    "        schema_str = self.client.service.API_GeneralQuery(self.session_id, qs, \"\")\n",
    "        return self._search_schema(schema_str, show_all=False, OfficeID__ne=-1)\n",
    "\n",
    "    @handle_response\n",
    "    def show_latest_physician(self):\n",
    "        qs = \"SELECT * FROM PhysicianDetail\"\n",
    "        schema_str = self.client.service.API_GeneralQuery(self.session_id, qs, \"\")\n",
    "        return self._search_schema(schema_str, show_all=False, PhysicianID__ne=-1)\n",
    "    \n",
    "    @handle_response\n",
    "    def show_latest_contact_log(self):\n",
    "        qs = \"SELECT * FROM ContactLog\"\n",
    "        schema_str = self.client.service.API_GeneralQuery(self.session_id, qs, \"\")\n",
    "        return self._search_schema(schema_str, show_all=False, CallID__ne=-1)\n"
   ]
  },
  {
   "cell_type": "code",
   "execution_count": 252,
   "metadata": {
    "collapsed": true
   },
   "outputs": [],
   "source": [
    "connection = Connection()"
   ]
  },
  {
   "cell_type": "code",
   "execution_count": 253,
   "metadata": {
    "scrolled": false
   },
   "outputs": [
    {
     "name": "stdout",
     "output_type": "stream",
     "text": [
      "<SchemaandData xmlns:ns1=\"urn:schemas-microsoft-com:xml-msdata\" xmlns:xs=\"http://www.w3.org/2001/XMLSchema\">\n",
      " <xs:schema id=\"NewDataSet\">\n",
      "    <xs:element name=\"NewDataSet\" ns1:IsDataSet=\"true\" ns1:UseCurrentLocale=\"true\">\n",
      "      <xs:complexType>\n",
      "        <xs:choice maxOccurs=\"unbounded\" minOccurs=\"0\">\n",
      "          <xs:element name=\"Table\">\n",
      "            <xs:complexType>\n",
      "              <xs:sequence>\n",
      "                <xs:element minOccurs=\"0\" name=\"SECURITY_CONTEXT\" type=\"xs:string\" />\n",
      "                <xs:element minOccurs=\"0\" name=\"CallID\" type=\"xs:int\" />\n",
      "                <xs:element minOccurs=\"0\" name=\"ContactDate\" type=\"xs:dateTime\" ns1:DateTimeMode=\"Unspecified\" />\n",
      "                <xs:element minOccurs=\"0\" name=\"FollowUpDate\" type=\"xs:dateTime\" ns1:DateTimeMode=\"Unspecified\" />\n",
      "                <xs:element minOccurs=\"0\" name=\"FollowUpCompleted\" type=\"xs:boolean\" />\n",
      "                <xs:element minOccurs=\"0\" name=\"ContactLogTypeID\" type=\"xs:int\" />\n",
      "                <xs:element minOccurs=\"0\" name=\"Notes\" type=\"xs:string\" />\n",
      "                <xs:element minOccurs=\"0\" name=\"ContactID\" type=\"xs:int\" />\n",
      "                <xs:element minOccurs=\"0\" name=\"Notified\" type=\"xs:int\" />\n",
      "                <xs:element minOccurs=\"0\" name=\"UserDisplayName\" type=\"xs:string\" />\n",
      "                <xs:element minOccurs=\"0\" name=\"EMail\" type=\"xs:string\" />\n",
      "                <xs:element minOccurs=\"0\" name=\"Phone\" type=\"xs:string\" />\n",
      "                <xs:element minOccurs=\"0\" name=\"ContactName\" type=\"xs:string\" />\n",
      "                <xs:element minOccurs=\"0\" name=\"Attachment\" type=\"xs:string\" />\n",
      "                <xs:element minOccurs=\"0\" name=\"TrackingGuid\" type=\"xs:string\" ns1:DataType=\"System.Guid, mscorlib, Version=4.0.0.0, Culture=neutral, PublicKeyToken=b77a5c561934e089\" />\n",
      "                <xs:element minOccurs=\"0\" name=\"EntityGuid\" type=\"xs:string\" ns1:DataType=\"System.Guid, mscorlib, Version=4.0.0.0, Culture=neutral, PublicKeyToken=b77a5c561934e089\" />\n",
      "                <xs:element minOccurs=\"0\" name=\"Subject\" type=\"xs:string\" />\n",
      "                <xs:element minOccurs=\"0\" name=\"grid_sort\" type=\"xs:string\" />\n",
      "              </xs:sequence>\n",
      "            </xs:complexType>\n",
      "          </xs:element>\n",
      "          <xs:element name=\"Table1\">\n",
      "            <xs:complexType>\n",
      "              <xs:sequence>\n",
      "                <xs:element minOccurs=\"0\" name=\"CallID\" type=\"xs:int\" />\n",
      "                <xs:element minOccurs=\"0\" name=\"TimeEdited\" type=\"xs:base64Binary\" />\n",
      "                <xs:element minOccurs=\"0\" name=\"Subject\" type=\"xs:string\" />\n",
      "              </xs:sequence>\n",
      "            </xs:complexType>\n",
      "          </xs:element>\n",
      "        </xs:choice>\n",
      "      </xs:complexType>\n",
      "    </xs:element>\n",
      "  </xs:schema>\n",
      "  <NewDataSet>\n",
      "    <Table>\n",
      "      <EntityGuid>60e04aba-f548-41c6-9194-4c5dde6d4359</EntityGuid>\n",
      "      <CallID>0</CallID>\n",
      "      <ContactID>0</ContactID>\n",
      "      <ContactDate>2017-09-05T21:09:31</ContactDate>\n",
      "      <Notes>Hi I am a note</Notes>\n",
      "    </Table>\n",
      "    <Table1>\n",
      "      <CallID>0</CallID>\n",
      "      <Subject>Testing</Subject>\n",
      "    </Table1>\n",
      "  </NewDataSet>\n",
      "</SchemaandData>\n",
      "\n"
     ]
    },
    {
     "data": {
      "text/plain": [
       "'Error: Error:SymedData.UpdateDataSpecified cast is not valid.'"
      ]
     },
     "execution_count": 253,
     "metadata": {},
     "output_type": "execute_result"
    }
   ],
   "source": [
    "connection.add_contact_log_entry(307, Notes=\"Hi I am a note\", Subject=\"Testing\")"
   ]
  },
  {
   "cell_type": "code",
   "execution_count": null,
   "metadata": {
    "collapsed": true
   },
   "outputs": [],
   "source": [
    "self.client.service.API_UpdateData('6e1a9857749a461ba89d7774e9687d85', \n",
    "                                   'Locations', 'Provider', 'CallLog', \n",
    "                                   'Symed', '@EntityGuid|60e04aba-f548-41c6-9194-4c5dde6d4359|guid',\n",
    "                                   updated_schema)"
   ]
  },
  {
   "cell_type": "markdown",
   "metadata": {},
   "source": [
    "'Error: Error:SymedData.UpdateDataSpecified cast is not valid.'"
   ]
  },
  {
   "cell_type": "code",
   "execution_count": 154,
   "metadata": {},
   "outputs": [
    {
     "name": "stdout",
     "output_type": "stream",
     "text": [
      "<SchemaandData>\r\n",
      "  <xs:schema id=\"NewDataSet\" xmlns=\"\" xmlns:xs=\"http://www.w3.org/2001/XMLSchema\" xmlns:msdata=\"urn:schemas-microsoft-com:xml-msdata\">\r\n",
      "    <xs:element name=\"NewDataSet\" msdata:IsDataSet=\"true\" msdata:UseCurrentLocale=\"true\">\r\n",
      "      <xs:complexType>\r\n",
      "        <xs:choice minOccurs=\"0\" maxOccurs=\"unbounded\">\r\n",
      "          <xs:element name=\"Table\">\r\n",
      "            <xs:complexType>\r\n",
      "              <xs:sequence>\r\n",
      "                <xs:element name=\"SECURITY_CONTEXT\" type=\"xs:string\" minOccurs=\"0\" />\r\n",
      "                <xs:element name=\"CallID\" type=\"xs:int\" minOccurs=\"0\" />\r\n",
      "                <xs:element name=\"ContactDate\" msdata:DateTimeMode=\"Unspecified\" type=\"xs:dateTime\" minOccurs=\"0\" />\r\n",
      "                <xs:element name=\"FollowUpDate\" msdata:DateTimeMode=\"Unspecified\" type=\"xs:dateTime\" minOccurs=\"0\" />\r\n",
      "                <xs:element name=\"FollowUpCompleted\" type=\"xs:boolean\" minOccurs=\"0\" />\r\n",
      "                <xs:element name=\"ContactLogTypeID\" type=\"xs:int\" minOccurs=\"0\" />\r\n",
      "                <xs:element name=\"Notes\" type=\"xs:string\" minOccurs=\"0\" />\r\n",
      "                <xs:element name=\"ContactID\" type=\"xs:int\" minOccurs=\"0\" />\r\n",
      "                <xs:element name=\"Notified\" type=\"xs:int\" minOccurs=\"0\" />\r\n",
      "                <xs:element name=\"UserDisplayName\" type=\"xs:string\" minOccurs=\"0\" />\r\n",
      "                <xs:element name=\"EMail\" type=\"xs:string\" minOccurs=\"0\" />\r\n",
      "                <xs:element name=\"Phone\" type=\"xs:string\" minOccurs=\"0\" />\r\n",
      "                <xs:element name=\"ContactName\" type=\"xs:string\" minOccurs=\"0\" />\r\n",
      "                <xs:element name=\"Attachment\" type=\"xs:string\" minOccurs=\"0\" />\r\n",
      "                <xs:element name=\"TrackingGuid\" msdata:DataType=\"System.Guid, mscorlib, Version=4.0.0.0, Culture=neutral, PublicKeyToken=b77a5c561934e089\" type=\"xs:string\" minOccurs=\"0\" />\r\n",
      "                <xs:element name=\"EntityGuid\" msdata:DataType=\"System.Guid, mscorlib, Version=4.0.0.0, Culture=neutral, PublicKeyToken=b77a5c561934e089\" type=\"xs:string\" minOccurs=\"0\" />\r\n",
      "                <xs:element name=\"Subject\" type=\"xs:string\" minOccurs=\"0\" />\r\n",
      "                <xs:element name=\"grid_sort\" type=\"xs:string\" minOccurs=\"0\" />\r\n",
      "              </xs:sequence>\r\n",
      "            </xs:complexType>\r\n",
      "          </xs:element>\r\n",
      "          <xs:element name=\"Table1\">\r\n",
      "            <xs:complexType>\r\n",
      "              <xs:sequence>\r\n",
      "                <xs:element name=\"CallID\" type=\"xs:int\" minOccurs=\"0\" />\r\n",
      "                <xs:element name=\"TimeEdited\" type=\"xs:base64Binary\" minOccurs=\"0\" />\r\n",
      "                <xs:element name=\"Subject\" type=\"xs:string\" minOccurs=\"0\" />\r\n",
      "              </xs:sequence>\r\n",
      "            </xs:complexType>\r\n",
      "          </xs:element>\r\n",
      "        </xs:choice>\r\n",
      "      </xs:complexType>\r\n",
      "    </xs:element>\r\n",
      "  </xs:schema>\r\n",
      "  <NewDataSet>\r\n",
      "    <Table>\r\n",
      "      <SECURITY_CONTEXT />\r\n",
      "      <CallID>2</CallID>\r\n",
      "      <ContactDate>2017-08-09T00:00:00</ContactDate>\r\n",
      "      <FollowUpDate>2017-08-14T00:00:00</FollowUpDate>\r\n",
      "      <ContactLogTypeID>1</ContactLogTypeID>\r\n",
      "      <Notes>Left VM for provider requesting an updated copy of their COI.  KMR</Notes>\r\n",
      "      <ContactID>0</ContactID>\r\n",
      "      <UserDisplayName>Pamela Hickey</UserDisplayName>\r\n",
      "      <ContactName>Test Practioner</ContactName>\r\n",
      "      <EntityGuid>1c71baf2-4edd-4391-8cd7-e40c0b38564d</EntityGuid>\r\n",
      "      <Subject>COI</Subject>\r\n",
      "    </Table>\r\n",
      "    <Table>\r\n",
      "      <SECURITY_CONTEXT />\r\n",
      "      <CallID>3</CallID>\r\n",
      "      <ContactDate>2017-08-09T00:00:00</ContactDate>\r\n",
      "      <FollowUpDate>2017-08-14T00:00:00</FollowUpDate>\r\n",
      "      <ContactLogTypeID>5</ContactLogTypeID>\r\n",
      "      <Notes>Sent Email to provider requesting an updated NM DEA.  KMR</Notes>\r\n",
      "      <ContactID>0</ContactID>\r\n",
      "      <UserDisplayName>Kathleen Reynolds</UserDisplayName>\r\n",
      "      <ContactName>Test Practioner</ContactName>\r\n",
      "      <EntityGuid>1c71baf2-4edd-4391-8cd7-e40c0b38564d</EntityGuid>\r\n",
      "      <Subject>DEA</Subject>\r\n",
      "    </Table>\r\n",
      "    <Table1>\r\n",
      "      <CallID>2</CallID>\r\n",
      "      <TimeEdited>AAAAAAACLDU=</TimeEdited>\r\n",
      "      <Subject>COI</Subject>\r\n",
      "    </Table1>\r\n",
      "    <Table1>\r\n",
      "      <CallID>3</CallID>\r\n",
      "      <TimeEdited>AAAAAAACLDY=</TimeEdited>\r\n",
      "      <Subject>DEA</Subject>\r\n",
      "    </Table1>\r\n",
      "  </NewDataSet>\r\n",
      "</SchemaandData>\n"
     ]
    }
   ],
   "source": [
    "print(connection.get_contact_log(305))"
   ]
  },
  {
   "cell_type": "code",
   "execution_count": 174,
   "metadata": {},
   "outputs": [],
   "source": [
    "thing = {'thing':1}"
   ]
  },
  {
   "cell_type": "code",
   "execution_count": 175,
   "metadata": {},
   "outputs": [
    {
     "data": {
      "text/plain": [
       "1"
      ]
     },
     "execution_count": 175,
     "metadata": {},
     "output_type": "execute_result"
    }
   ],
   "source": [
    "thing.pop('thing')"
   ]
  },
  {
   "cell_type": "code",
   "execution_count": 176,
   "metadata": {},
   "outputs": [
    {
     "data": {
      "text/plain": [
       "{}"
      ]
     },
     "execution_count": 176,
     "metadata": {},
     "output_type": "execute_result"
    }
   ],
   "source": [
    "thing"
   ]
  },
  {
   "cell_type": "code",
   "execution_count": 255,
   "metadata": {},
   "outputs": [
    {
     "data": {
      "text/plain": [
       "'LoggedOut|kathleen.reynolds'"
      ]
     },
     "execution_count": 255,
     "metadata": {},
     "output_type": "execute_result"
    }
   ],
   "source": [
    "connection.client.service.API_Logout('6e1a9857749a461ba89d7774e9687d85')"
   ]
  },
  {
   "cell_type": "code",
   "execution_count": null,
   "metadata": {
    "collapsed": true
   },
   "outputs": [],
   "source": []
  }
 ],
 "metadata": {
  "kernelspec": {
   "display_name": "Python 3",
   "language": "python",
   "name": "python3"
  },
  "language_info": {
   "codemirror_mode": {
    "name": "ipython",
    "version": 3
   },
   "file_extension": ".py",
   "mimetype": "text/x-python",
   "name": "python",
   "nbconvert_exporter": "python",
   "pygments_lexer": "ipython3",
   "version": "3.6.2"
  }
 },
 "nbformat": 4,
 "nbformat_minor": 2
}
