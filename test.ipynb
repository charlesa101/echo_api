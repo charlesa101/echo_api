{
 "cells": [
  {
   "cell_type": "code",
   "execution_count": 254,
   "metadata": {},
   "outputs": [
    {
     "data": {
      "text/plain": [
       "'1c71baf24edd43918cd7e40c0b38564d'"
      ]
     },
     "execution_count": 254,
     "metadata": {},
     "output_type": "execute_result"
    }
   ],
   "source": [
    "from echo_api import Connection, Settings, APICallError\n",
    "from xmlmanip import XMLSchema\n",
    "import xml.etree.ElementTree as ET\n",
    "from requests import Session\n",
    "from functools import wraps\n",
    "import uuid\n",
    "\n",
    "from zeep import Client\n",
    "from zeep.transports import Transport\n"
   ]
  },
  {
   "cell_type": "code",
   "execution_count": 3,
   "metadata": {
    "collapsed": true
   },
   "outputs": [],
   "source": [
    "def handle_response(method):\n",
    "    @wraps(method)\n",
    "    def _impl(self, *method_args, **method_kwargs):\n",
    "        response = method(self, *method_args, **method_kwargs)\n",
    "        if \"Error|\" in response:\n",
    "            raise APICallError(response)\n",
    "        else:\n",
    "            return response\n",
    "    return _impl"
   ]
  },
  {
   "cell_type": "code",
   "execution_count": 368,
   "metadata": {
    "collapsed": true
   },
   "outputs": [],
   "source": [
    "class Connection:\n",
    "    def _get_physician_guid(self, physician_id):\n",
    "        qs = f\"SELECT * FROM PhysicianDetail WHERE PhysicianID={physician_id}\"\n",
    "        schema_str = self.client.service.API_GeneralQuery(self.session_id, qs, \"\")\n",
    "        schema = XMLSchema(schema_str)\n",
    "        paths = schema.locate(PhysicianID__ne='-1')\n",
    "        physicians = [schema.retrieve('__'.join(path.split('__')[:-1])) for path in paths]\n",
    "        if len(physicians) > 0:\n",
    "            physician = sorted(physicians, key=lambda x: int(x['PhysicianID']), reverse=True)[0]\n",
    "        else:\n",
    "            raise APICallError(f'No Physicians matching id {physician_id}')\n",
    "        return physician[\"EntityGuid\"]\n",
    "    \n",
    "    def get_latest_contact_log(self, physician_id):\n",
    "        qs = \"SELECT * FROM ContactLog\"\n",
    "        schema_str = self.client.service.API_GeneralQuery(self.session_id, qs, \"\")\n",
    "        schema = XMLSchema(schema_str)\n",
    "        paths = schema.locate(CallID__ne='-1')\n",
    "        logs = [schema.retrieve('__'.join(path.split('__')[:-1])) for path in paths]\n",
    "        return sorted(logs, key=lambda x: int(x['CallID']), reverse=True)[0]\n",
    "    \n",
    "    @handle_response\n",
    "    def get_physician(self, physician_id):\n",
    "        args = [self.session_id, \"PhysicianDetail\", \"Symed\", f\"@PhysicianID|{physician_id}|int\"]\n",
    "        return self.client.service.API_GetData(*args)\n",
    "\n",
    "    def add_physician(self, office_id, **kwargs):\n",
    "        args = [self.session_id, \"Locations\", \"Provider\", \"PhysicianDetail_Create\", 5, f\"@OfficeID|{office_id}|int\"]\n",
    "        result = self.client.service.API_TreeDataCommand(*args)\n",
    "        if \"Error|\" in result:\n",
    "            raise APICallError(result)\n",
    "        else:\n",
    "            if len(kwargs) != 0:\n",
    "                physician_id = result.split(\"|\")[1]\n",
    "                return self.edit_physician(physician_id, **kwargs)\n",
    "            else:\n",
    "                return result\n",
    "\n",
    "    @handle_response\n",
    "    def edit_physician(self, physician_id, **kwargs):\n",
    "        physician = self.get_physician(physician_id)\n",
    "        schema_and_data = ET.fromstring(physician)\n",
    "        for key, value in kwargs.items():\n",
    "            if schema_and_data[1][0].find(key) is None:\n",
    "                new_attr = ET.SubElement(schema_and_data[1][0], key)\n",
    "                new_attr.text = value\n",
    "            else:\n",
    "                schema_and_data[1][0].find(key).text = value\n",
    "        updated_schema = ET.tostring(schema_and_data)\n",
    "        args = [self.session_id, \"Locations\", \"Provider\", \"PhysicianDetail\",\n",
    "                \"Symed\", f\"@PhysicianID|{physician_id}|int\", updated_schema]\n",
    "        return self.client.service.API_UpdateData(*args)\n",
    "\n",
    "    @handle_response\n",
    "    def delete_physician(self, physician_id=\"\", office_id=\"\"):\n",
    "        if not (physician_id and office_id):\n",
    "            raise APICallError(\"You must specify both the physician_id and office_id.\")\n",
    "        args = [self.session_id, \"Locations\", \"Provider\", \"PhysicianDetail_Delete\", 6,\n",
    "                f\"@PhysicianID|{physician_id}|int@OfficeID|{office_id}|int\"]\n",
    "        return self.client.service.API_TreeDataCommand(*args)\n",
    "\n",
    "    def get_latest_physician(self):\n",
    "        qs = \"SELECT * FROM PhysicianDetail\"\n",
    "        schema_str = self.client.service.API_GeneralQuery(self.session_id, qs, \"\")\n",
    "        schema = XMLSchema(schema_str)\n",
    "        paths = schema.locate(PhysicianID__ne='-1')\n",
    "        physicians = [schema.retrieve('__'.join(path.split('__')[:-1])) for path in paths]\n",
    "        return sorted(physicians, key=lambda x: int(x['PhysicianID']), reverse=True)[0]\n",
    "\n",
    "    @handle_response\n",
    "    def get_office(self, office_id):\n",
    "        args = [self.session_id, \"Office\", \"Symed\", f\"@OfficeID|{office_id}|int\"]\n",
    "        return self.client.service.API_GetData(*args)\n",
    "\n",
    "    @handle_response\n",
    "    def add_office(self, practice_id=\"\"):\n",
    "        if not practice_id:\n",
    "            raise APICallError(\"You must provide a practice_id with which to associate this office.\")\n",
    "        args = [self.session_id, \"Locations\", \"Office\", \"Offices_Create\", 5, f\"@PracticeID|{practice_id}|int\"]\n",
    "        return self.client.service.API_TreeDataCommand(*args)\n",
    "\n",
    "    @handle_response\n",
    "    def delete_office(self, office_id=\"\"):\n",
    "        if not office_id:\n",
    "            raise APICallError(\"You must specify the office_id.\")\n",
    "        args = [self.session_id, \"Locations\", \"Office\", \"Offices_Delete\", 6,\n",
    "                f\"@OfficeID|{office_id}|int\"]\n",
    "        return self.client.service.API_TreeDataCommand(*args)\n",
    "\n",
    "    def get_latest_office(self):\n",
    "        qs = \"SELECT * FROM Offices\"\n",
    "        schema_str = self.client.service.API_GeneralQuery(self.session_id, qs, \"\")\n",
    "        schema = XMLSchema(schema_str)\n",
    "        paths = schema.locate(OfficeID__ne='-1')\n",
    "        offices = [schema.retrieve('__'.join(path.split('__')[:-1])) for path in paths]\n",
    "        return sorted(offices, key=lambda x: int(x['OfficeID']), reverse=True)[0]\n",
    "\n",
    "    def get_latest_practice(self):\n",
    "        qs = \"SELECT * FROM Offices WHERE OfficeID = PracticeID\"\n",
    "        schema_str = self.client.service.API_GeneralQuery(self.session_id, qs, \"\")\n",
    "        schema = XMLSchema(schema_str)\n",
    "        paths = schema.locate(OfficeID__ne='-1')\n",
    "        offices = [schema.retrieve('__'.join(path.split('__')[:-1])) for path in paths]\n",
    "        return sorted(offices, key=lambda x: int(x['OfficeID']), reverse=True)[0]\n",
    "    \n",
    "    @handle_response\n",
    "    def get_contact_log(self, physician_id):\n",
    "        guid = self._get_physician_guid(physician_id)\n",
    "        print(guid)\n",
    "        guid_string = '{' + guid + '}'\n",
    "        guid = uuid.UUID(f'{guid_string}').hex\n",
    "        print(guid)\n",
    "        args = [self.session_id, \"CallLog\", \"Symed\", f'@EntityGuid|\"{guid}\"|Guid']\n",
    "        args = [self.session_id, \"CallLog\", \"Symed\", f'@PhysicianID|{physician_id}|int']\n",
    "        print(args)\n",
    "        return self.client.service.API_GetData(*args)\n",
    "\n",
    "    def __init__(self, settings=Settings()):\n",
    "        self.endpoint = settings.ENDPOINT\n",
    "        self.session = Session()\n",
    "        self.client = Client(settings.WSDL_LOCATION, transport=Transport(session=self.session))\n",
    "        if \"Success\" in self.client.service.API_Test():\n",
    "            self.session_id = self.client.service.API_Login(settings.USERNAME, settings.PASSWORD).split(\"|\")[1]\n",
    "        else:\n",
    "            raise APITestFailError(\"Test connection failed.\")"
   ]
  },
  {
   "cell_type": "code",
   "execution_count": 369,
   "metadata": {
    "collapsed": true
   },
   "outputs": [],
   "source": [
    "connection = Connection()"
   ]
  },
  {
   "cell_type": "code",
   "execution_count": 370,
   "metadata": {},
   "outputs": [],
   "source": [
    "# print(connection.get_latest_contact_log(12))"
   ]
  },
  {
   "cell_type": "code",
   "execution_count": 371,
   "metadata": {},
   "outputs": [
    {
     "name": "stdout",
     "output_type": "stream",
     "text": [
      "1c71baf2-4edd-4391-8cd7-e40c0b38564d\n",
      "1c71baf24edd43918cd7e40c0b38564d\n",
      "['aaef28e7248e408c8df9e4af6cd079c5', 'CallLog', 'Symed', '@PhysicianID|305|int']\n"
     ]
    },
    {
     "ename": "APICallError",
     "evalue": "Error|SymedData::LoadData - Procedure or function 'ContactLog_Select' expects parameter '@EntityGuid', which was not supplied.",
     "traceback": [
      "\u001b[0;31m---------------------------------------------------------------------------\u001b[0m",
      "\u001b[0;31mAPICallError\u001b[0m                              Traceback (most recent call last)",
      "\u001b[0;32m<ipython-input-371-2d163359219d>\u001b[0m in \u001b[0;36m<module>\u001b[0;34m()\u001b[0m\n\u001b[0;32m----> 1\u001b[0;31m \u001b[0mconnection\u001b[0m\u001b[0;34m.\u001b[0m\u001b[0mget_contact_log\u001b[0m\u001b[0;34m(\u001b[0m\u001b[0;36m305\u001b[0m\u001b[0;34m)\u001b[0m\u001b[0;34m\u001b[0m\u001b[0m\n\u001b[0m",
      "\u001b[0;32m<ipython-input-3-faf8754b36e7>\u001b[0m in \u001b[0;36m_impl\u001b[0;34m(self, *method_args, **method_kwargs)\u001b[0m\n\u001b[1;32m      4\u001b[0m         \u001b[0mresponse\u001b[0m \u001b[0;34m=\u001b[0m \u001b[0mmethod\u001b[0m\u001b[0;34m(\u001b[0m\u001b[0mself\u001b[0m\u001b[0;34m,\u001b[0m \u001b[0;34m*\u001b[0m\u001b[0mmethod_args\u001b[0m\u001b[0;34m,\u001b[0m \u001b[0;34m**\u001b[0m\u001b[0mmethod_kwargs\u001b[0m\u001b[0;34m)\u001b[0m\u001b[0;34m\u001b[0m\u001b[0m\n\u001b[1;32m      5\u001b[0m         \u001b[0;32mif\u001b[0m \u001b[0;34m\"Error|\"\u001b[0m \u001b[0;32min\u001b[0m \u001b[0mresponse\u001b[0m\u001b[0;34m:\u001b[0m\u001b[0;34m\u001b[0m\u001b[0m\n\u001b[0;32m----> 6\u001b[0;31m             \u001b[0;32mraise\u001b[0m \u001b[0mAPICallError\u001b[0m\u001b[0;34m(\u001b[0m\u001b[0mresponse\u001b[0m\u001b[0;34m)\u001b[0m\u001b[0;34m\u001b[0m\u001b[0m\n\u001b[0m\u001b[1;32m      7\u001b[0m         \u001b[0;32melse\u001b[0m\u001b[0;34m:\u001b[0m\u001b[0;34m\u001b[0m\u001b[0m\n\u001b[1;32m      8\u001b[0m             \u001b[0;32mreturn\u001b[0m \u001b[0mresponse\u001b[0m\u001b[0;34m\u001b[0m\u001b[0m\n",
      "\u001b[0;31mAPICallError\u001b[0m: Error|SymedData::LoadData - Procedure or function 'ContactLog_Select' expects parameter '@EntityGuid', which was not supplied."
     ],
     "output_type": "error"
    }
   ],
   "source": [
    "connection.get_contact_log(305)"
   ]
  },
  {
   "cell_type": "code",
   "execution_count": 309,
   "metadata": {},
   "outputs": [
    {
     "name": "stdout",
     "output_type": "stream",
     "text": [
      "1c71baf2-4edd-4391-8cd7-e40c0b38564d\n"
     ]
    }
   ],
   "source": [
    "print(connection._get_physician_guid(305))"
   ]
  },
  {
   "cell_type": "markdown",
   "metadata": {},
   "source": [
    "Trying to get a CallLog entry from a Guid:"
   ]
  },
  {
   "cell_type": "code",
   "execution_count": 372,
   "metadata": {},
   "outputs": [
    {
     "data": {
      "text/plain": [
       "\"Error|SymedData::LoadData - Procedure or function 'ContactLog_Select' expects parameter '@EntityGuid', which was not supplied.\""
      ]
     },
     "execution_count": 372,
     "metadata": {},
     "output_type": "execute_result"
    }
   ],
   "source": [
    "connection.client.service.API_GetData('aaef28e7248e408c8df9e4af6cd079c5', \n",
    "                                      'CallLog', \n",
    "                                      'Symed', \n",
    "                                      '@PhysicianID|305|int')"
   ]
  },
  {
   "cell_type": "code",
   "execution_count": 304,
   "metadata": {},
   "outputs": [
    {
     "data": {
      "text/plain": [
       "'Error|SymedData::LoadData - Failed to convert parameter value from a Int32 to a Guid.'"
      ]
     },
     "execution_count": 304,
     "metadata": {},
     "output_type": "execute_result"
    }
   ],
   "source": [
    "# original UUID from PhysicianDetail\n",
    "connection.client.service.API_GetData('8596a3ee624449988ff773841c874607', \n",
    "                                      'CallLog', \n",
    "                                      'Symed', \n",
    "                                      '@EntityGuid|1c71baf2-4edd-4391-8cd7-e40c0b38564d|Guid')"
   ]
  },
  {
   "cell_type": "code",
   "execution_count": 316,
   "metadata": {},
   "outputs": [
    {
     "data": {
      "text/plain": [
       "'Error|SymedData::LoadData - Failed to convert parameter value from a Int32 to a Guid.'"
      ]
     },
     "execution_count": 316,
     "metadata": {},
     "output_type": "execute_result"
    }
   ],
   "source": [
    "# hex representation of original UUID from PhysicianDetail\n",
    "connection.client.service.API_GetData('98c6fe02496c4bd1a31d55bab681884c', \n",
    "                                      'CallLog', \n",
    "                                      'Symed', \n",
    "                                      '@EntityGuid|1c71baf24edd43918cd7e40c0b38564d|Guid')"
   ]
  },
  {
   "cell_type": "code",
   "execution_count": 315,
   "metadata": {},
   "outputs": [
    {
     "data": {
      "text/plain": [
       "'Error|SymedData::LoadData - Failed to convert parameter value from a Int32 to a Guid.'"
      ]
     },
     "execution_count": 315,
     "metadata": {},
     "output_type": "execute_result"
    }
   ],
   "source": [
    "# 128 bit representation of original UUID from PhysicianDetail\n",
    "connection.client.service.API_GetData('98c6fe02496c4bd1a31d55bab681884c', \n",
    "                                      'CallLog', \n",
    "                                      'Symed', \n",
    "                                      '@EntityGuid|37808905152801010081679917987365672525|Guid')"
   ]
  },
  {
   "cell_type": "code",
   "execution_count": 346,
   "metadata": {},
   "outputs": [
    {
     "data": {
      "text/plain": [
       "'Error|SymedData::LoadData - Failed to convert parameter value from a Int32 to a Guid.'"
      ]
     },
     "execution_count": 346,
     "metadata": {},
     "output_type": "execute_result"
    }
   ],
   "source": [
    "# 32 bit representation of time_low portion of original UUID from PhysicianDetail\n",
    "connection.client.service.API_GetData('577e64cf85d54e289c9cccb92253bf38', \n",
    "                                      'CallLog', \n",
    "                                      'Symed', \n",
    "                                      '@EntityGuid|477215474|Guid')"
   ]
  },
  {
   "cell_type": "code",
   "execution_count": 373,
   "metadata": {},
   "outputs": [
    {
     "data": {
      "text/plain": [
       "'Error|SymedData::LoadData - Failed to convert parameter value from a Int32 to a Guid.'"
      ]
     },
     "execution_count": 373,
     "metadata": {},
     "output_type": "execute_result"
    }
   ],
   "source": [
    "connection.client.service.API_GetData('8596a3ee624449988ff773841c874607', \n",
    "                                      'CallLog', \n",
    "                                      'Symed', \n",
    "                                      '@EntityGuid|\"1c71baf2-4edd-4391-8cd7-e40c0b38564d\"|Guid')"
   ]
  },
  {
   "cell_type": "code",
   "execution_count": 363,
   "metadata": {},
   "outputs": [
    {
     "data": {
      "text/plain": [
       "'Error|SymedData::LoadData - Failed to convert parameter value from a Int32 to a Guid.'"
      ]
     },
     "execution_count": 363,
     "metadata": {},
     "output_type": "execute_result"
    }
   ],
   "source": [
    "connection.client.service.API_GetData('d2e1dd8d9a08462d9853af93c2bbb57f', \n",
    "                                      'CallLog', \n",
    "                                      'Symed', \n",
    "                                      '@EntityGuid|\"1c71baf24edd43918cd7e40c0b38564d\"|Guid')"
   ]
  }
 ],
 "metadata": {
  "kernelspec": {
   "display_name": "Python 3",
   "language": "python",
   "name": "python3"
  },
  "language_info": {
   "codemirror_mode": {
    "name": "ipython",
    "version": 3
   },
   "file_extension": ".py",
   "mimetype": "text/x-python",
   "name": "python",
   "nbconvert_exporter": "python",
   "pygments_lexer": "ipython3",
   "version": "3.6.2"
  }
 },
 "nbformat": 4,
 "nbformat_minor": 2
}
