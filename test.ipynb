{
 "cells": [
  {
   "cell_type": "code",
   "execution_count": 60,
   "metadata": {
    "collapsed": true
   },
   "outputs": [],
   "source": [
    "from echo_api import Connection, Settings, APICallError\n",
    "from xmlmanip import XMLSchema\n",
    "import xml.etree.ElementTree as ET\n",
    "from requests import Session\n",
    "from functools import wraps\n",
    "\n",
    "\n",
    "from zeep import Client\n",
    "from zeep.transports import Transport"
   ]
  },
  {
   "cell_type": "code",
   "execution_count": 61,
   "metadata": {},
   "outputs": [],
   "source": [
    "def handle_response_error(method):\n",
    "    @wraps(method)\n",
    "    def _impl(self, *method_args, **method_kwargs):\n",
    "        response = method(self, *method_args, **method_kwargs)\n",
    "        if \"Error|\" in response:\n",
    "            raise APICallError(response)\n",
    "        else:\n",
    "            return response\n",
    "    return _impl"
   ]
  },
  {
   "cell_type": "code",
   "execution_count": 83,
   "metadata": {},
   "outputs": [],
   "source": [
    "class Connection:\n",
    "    @handle_response_error\n",
    "    def get_physician(self, physician_id):\n",
    "        args = [self.session_id, \"PhysicianDetail\", \"Symed\", f\"@PhysicianID|{physician_id}|int\"]\n",
    "        return self.client.service.API_GetData(*args)\n",
    "\n",
    "    def add_physician(self, office_id, **kwargs):\n",
    "        args = [self.session_id, \"Locations\", \"Provider\", \"PhysicianDetail_Create\", 5, f\"@OfficeID|{office_id}|int\"]\n",
    "        result = self.client.service.API_TreeDataCommand(*args)\n",
    "        if \"Error|\" in result:\n",
    "            raise APICallError(result)\n",
    "        else:\n",
    "            if len(kwargs) != 0:\n",
    "                physician_id = result.split(\"|\")[1]\n",
    "                return self.edit_physician(physician_id, **kwargs)\n",
    "            else:\n",
    "                return result\n",
    "            \n",
    "    @handle_response_error\n",
    "    def edit_physician(self, physician_id, **kwargs):\n",
    "        physician = self.get_physician(physician_id)\n",
    "        schema_and_data = ET.fromstring(physician)\n",
    "        for key, value in kwargs.items():\n",
    "            if schema_and_data[1][0].find(key) is None:\n",
    "                new_attr = ET.SubElement(schema_and_data[1][0], key)\n",
    "                new_attr.text = value\n",
    "            else:\n",
    "                schema_and_data[1][0].find(key).text = value\n",
    "        updated_schema = ET.tostring(schema_and_data)\n",
    "        args = [self.session_id, \"Locations\", \"Provider\", \"PhysicianDetail\",\n",
    "                \"Symed\", f\"@PhysicianID|{physician_id}|int\", updated_schema]\n",
    "        return self.client.service.API_UpdateData(*args)\n",
    "\n",
    "    @handle_response_error    \n",
    "    def delete_physician(self, physician_id=\"\", office_id=\"\"):\n",
    "        if not (physician_id and office_id):\n",
    "            raise APICallError(\"You must specify both the physician_id and office_id.\")\n",
    "        args = [self.session_id, \"Locations\", \"Provider\", \"PhysicianDetail_Delete\", 6,\n",
    "                f\"@PhysicianID|{physician_id}|int@OfficeID|{office_id}|int\"]\n",
    "        return self.client.service.API_TreeDataCommand(*args)\n",
    "\n",
    "    def get_latest_physician(self):\n",
    "        qs = \"SELECT * FROM PhysicianDetail\"\n",
    "        schema_str = self.client.service.API_GeneralQuery(self.session_id, qs, \"\")\n",
    "        schema = XMLSchema(schema_str)\n",
    "        paths = schema.locate(PhysicianID__ne='-1')\n",
    "        physicians = [schema.retrieve('__'.join(path.split('__')[:-1])) for path in paths]\n",
    "        return sorted(physicians, key=lambda x: int(x['PhysicianID']), reverse=True)[0]\n",
    "\n",
    "    @handle_response_error\n",
    "    def get_office(self, office_id):\n",
    "        args = [self.session_id, \"Office\", \"Symed\", f\"@OfficeID|{office_id}|int\"]\n",
    "        return self.client.service.API_GetData(*args)\n",
    "    \n",
    "    \n",
    "    @handle_response_error    \n",
    "    def add_office(self, practice_id=\"\"):\n",
    "        if not practice_id:\n",
    "            raise APICallError(\"You must provide a practice_id with which to associate this office.\")\n",
    "        args = [self.session_id, \"Locations\", \"Office\", \"Offices_Create\", 5, f\"@PracticeID|{practice_id}|int\"]\n",
    "        return self.client.service.API_TreeDataCommand(*args)\n",
    "    \n",
    "    @handle_response_error    \n",
    "    def delete_office(self, office_id=\"\"):\n",
    "        if not office_id:\n",
    "            raise APICallError(\"You must specify the office_id.\")\n",
    "        args = [self.session_id, \"Locations\", \"Office\", \"Offices_Delete\", 6,\n",
    "                f\"@OfficeID|{office_id}|int\"]\n",
    "        return self.client.service.API_TreeDataCommand(*args)\n",
    "        \n",
    "\n",
    "    def get_latest_office(self):\n",
    "        qs = \"SELECT * FROM Offices\"\n",
    "        schema_str = self.client.service.API_GeneralQuery(self.session_id, qs, \"\")\n",
    "        schema = XMLSchema(schema_str)\n",
    "        paths = schema.locate(OfficeID__ne='-1')\n",
    "        offices = [schema.retrieve('__'.join(path.split('__')[:-1])) for path in paths]\n",
    "        return sorted(offices, key=lambda x: int(x['OfficeID']), reverse=True)[0]\n",
    "    \n",
    "    def get_latest_practice(self):\n",
    "        qs = \"SELECT * FROM Offices WHERE OfficeID = PracticeID\"\n",
    "        schema_str = self.client.service.API_GeneralQuery(self.session_id, qs, \"\")\n",
    "        schema = XMLSchema(schema_str)\n",
    "        paths = schema.locate(OfficeID__ne='-1')\n",
    "        offices = [schema.retrieve('__'.join(path.split('__')[:-1])) for path in paths]\n",
    "        return sorted(offices, key=lambda x: int(x['OfficeID']), reverse=True)[0]\n",
    "\n",
    "    def __init__(self, settings=Settings()):\n",
    "        self.endpoint = settings.ENDPOINT\n",
    "        self.session = Session()\n",
    "        self.client = Client(settings.WSDL_LOCATION, transport=Transport(session=self.session))\n",
    "        if \"Success\" in self.client.service.API_Test():\n",
    "            self.session_id = self.client.service.API_Login(settings.USERNAME, settings.PASSWORD).split(\"|\")[1]\n",
    "        else:\n",
    "            raise APITestFailError(\"Test connection failed.\")"
   ]
  },
  {
   "cell_type": "code",
   "execution_count": 84,
   "metadata": {
    "collapsed": true
   },
   "outputs": [],
   "source": [
    "connection = Connection()"
   ]
  },
  {
   "cell_type": "code",
   "execution_count": 87,
   "metadata": {},
   "outputs": [
    {
     "data": {
      "text/plain": [
       "'@OfficeID|44|int'"
      ]
     },
     "execution_count": 87,
     "metadata": {},
     "output_type": "execute_result"
    }
   ],
   "source": [
    "connection.add_office(42)"
   ]
  },
  {
   "cell_type": "code",
   "execution_count": 90,
   "metadata": {},
   "outputs": [
    {
     "data": {
      "text/plain": [
       "'Success|Item Deleted'"
      ]
     },
     "execution_count": 90,
     "metadata": {},
     "output_type": "execute_result"
    }
   ],
   "source": [
    "connection.delete_office(44)"
   ]
  },
  {
   "cell_type": "code",
   "execution_count": 91,
   "metadata": {},
   "outputs": [
    {
     "data": {
      "text/plain": [
       "SchemaInnerDict([('OfficeID', '42'),\n",
       "                 ('LocationName', 'New Office'),\n",
       "                 ('PracticeID', '1'),\n",
       "                 ('Visible', 'true'),\n",
       "                 ('ContactTypeID', '1'),\n",
       "                 ('PracRelatedPhy', 'false'),\n",
       "                 ('TimeEdited', 'AAAAAAACMFY='),\n",
       "                 ('Notified', '0'),\n",
       "                 ('ContactCount', '0'),\n",
       "                 ('useOtherName', 'false'),\n",
       "                 ('EntityGuid', 'a5ecc6f4-2551-4448-9fe6-8c16147f92a2')])"
      ]
     },
     "execution_count": 91,
     "metadata": {},
     "output_type": "execute_result"
    }
   ],
   "source": [
    "connection.get_latest_office()"
   ]
  },
  {
   "cell_type": "code",
   "execution_count": null,
   "metadata": {
    "collapsed": true
   },
   "outputs": [],
   "source": []
  }
 ],
 "metadata": {
  "kernelspec": {
   "display_name": "Python 3",
   "language": "python",
   "name": "python3"
  },
  "language_info": {
   "codemirror_mode": {
    "name": "ipython",
    "version": 3
   },
   "file_extension": ".py",
   "mimetype": "text/x-python",
   "name": "python",
   "nbconvert_exporter": "python",
   "pygments_lexer": "ipython3",
   "version": "3.6.2"
  }
 },
 "nbformat": 4,
 "nbformat_minor": 2
}
