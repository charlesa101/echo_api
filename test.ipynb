{
 "cells": [
  {
   "cell_type": "markdown",
   "metadata": {},
   "source": [
    "### When I attempt to add a log entry using (`updated_shema` printed below):"
   ]
  },
  {
   "cell_type": "code",
   "execution_count": 5,
   "metadata": {
    "scrolled": false
   },
   "outputs": [
    {
     "name": "stdout",
     "output_type": "stream",
     "text": [
      "<SchemaandData xmlns:ns1=\"urn:schemas-microsoft-com:xml-msdata\" xmlns:xs=\"http://www.w3.org/2001/XMLSchema\">\n",
      " <xs:schema id=\"NewDataSet\">\n",
      "   <xs:element name=\"NewDataSet\" ns1:IsDataSet=\"true\" ns1:UseCurrentLocale=\"true\">\n",
      "     <xs:complexType>\n",
      "       <xs:choice maxOccurs=\"unbounded\" minOccurs=\"0\">\n",
      "         <xs:element name=\"Table\">\n",
      "           <xs:complexType>\n",
      "             <xs:sequence>\n",
      "               <xs:element minOccurs=\"0\" name=\"SECURITY_CONTEXT\" type=\"xs:string\" />\n",
      "                <xs:element minOccurs=\"0\" name=\"CallID\" type=\"xs:int\" />\n",
      "                <xs:element minOccurs=\"0\" name=\"ContactDate\" type=\"xs:dateTime\" ns1:DateTimeMode=\"Unspecified\" />\n",
      "                <xs:element minOccurs=\"0\" name=\"FollowUpDate\" type=\"xs:dateTime\" ns1:DateTimeMode=\"Unspecified\" />\n",
      "                <xs:element minOccurs=\"0\" name=\"FollowUpCompleted\" type=\"xs:boolean\" />\n",
      "                <xs:element minOccurs=\"0\" name=\"ContactLogTypeID\" type=\"xs:int\" />\n",
      "                <xs:element minOccurs=\"0\" name=\"Notes\" type=\"xs:string\" />\n",
      "                <xs:element minOccurs=\"0\" name=\"ContactID\" type=\"xs:int\" />\n",
      "                <xs:element minOccurs=\"0\" name=\"Notified\" type=\"xs:int\" />\n",
      "                <xs:element minOccurs=\"0\" name=\"UserDisplayName\" type=\"xs:string\" />\n",
      "                <xs:element minOccurs=\"0\" name=\"EMail\" type=\"xs:string\" />\n",
      "                <xs:element minOccurs=\"0\" name=\"Phone\" type=\"xs:string\" />\n",
      "                <xs:element minOccurs=\"0\" name=\"ContactName\" type=\"xs:string\" />\n",
      "                <xs:element minOccurs=\"0\" name=\"Attachment\" type=\"xs:string\" />\n",
      "                <xs:element minOccurs=\"0\" name=\"TrackingGuid\" type=\"xs:string\" ns1:DataType=\"System.Guid, mscorlib, Version=4.0.0.0, Culture=neutral, PublicKeyToken=b77a5c561934e089\" />\n",
      "                <xs:element minOccurs=\"0\" name=\"EntityGuid\" type=\"xs:string\" ns1:DataType=\"System.Guid, mscorlib, Version=4.0.0.0, Culture=neutral, PublicKeyToken=b77a5c561934e089\" />\n",
      "                <xs:element minOccurs=\"0\" name=\"Subject\" type=\"xs:string\" />\n",
      "                <xs:element minOccurs=\"0\" name=\"grid_sort\" type=\"xs:string\" />\n",
      "              </xs:sequence>\n",
      "            </xs:complexType>\n",
      "          </xs:element>\n",
      "          <xs:element name=\"Table1\">\n",
      "           <xs:complexType>\n",
      "             <xs:sequence>\n",
      "               <xs:element minOccurs=\"0\" name=\"CallID\" type=\"xs:int\" />\n",
      "                <xs:element minOccurs=\"0\" name=\"TimeEdited\" type=\"xs:base64Binary\" />\n",
      "                <xs:element minOccurs=\"0\" name=\"Subject\" type=\"xs:string\" />\n",
      "              </xs:sequence>\n",
      "            </xs:complexType>\n",
      "          </xs:element>\n",
      "        </xs:choice>\n",
      "      </xs:complexType>\n",
      "    </xs:element>\n",
      "  </xs:schema>\n",
      "  <NewDataSet>\n",
      "   <Table>\n",
      "     <SECURITY_CONTEXT />\n",
      "      <EntityGuid>60e04aba-f548-41c6-9194-4c5dde6d4359</EntityGuid>\n",
      "      <CallID>0</CallID>\n",
      "      <ContactID>0</ContactID>\n",
      "      <ContactDate>2017-09-06T14:04:01</ContactDate>\n",
      "      <Notes>Hi I am a note</Notes>\n",
      "      <UserDisplayName>Kathleen Reynolds</UserDisplayName>\n",
      "      <ContactLogTypeID>1</ContactLogTypeID>\n",
      "    </Table>\n",
      "    <Table1>\n",
      "     <CallID>0</CallID>\n",
      "      <Subject>Testing</Subject>\n",
      "    </Table1>\n",
      "  </NewDataSet>\n",
      "</SchemaandData>\n",
      "\n",
      "['b699022a0e99414f8b60a4f74a32587d', 'Locations', 'Provider', 'CallLog', 'Symed', '@EntityGuid|60e04aba-f548-41c6-9194-4c5dde6d4359|guid']\n"
     ]
    },
    {
     "data": {
      "text/plain": [
       "'Error: Error:SymedData.UpdateDataSpecified cast is not valid.'"
      ]
     },
     "execution_count": 5,
     "metadata": {},
     "output_type": "execute_result"
    }
   ],
   "source": [
    "self.client.service.API_UpdateData('b699022a0e99414f8b60a4f74a32587d', \n",
    "                                   'Locations', 'Provider', 'CallLog', \n",
    "                                   'Symed', '@EntityGuid|60e04aba-f548-41c6-9194-4c5dde6d4359|guid',\n",
    "                                   updated_schema)"
   ]
  },
  {
   "cell_type": "markdown",
   "metadata": {},
   "source": [
    "### I'm basing the information that I'm passing to this schema on the following example I pulled from our database:"
   ]
  },
  {
   "cell_type": "code",
   "execution_count": 154,
   "metadata": {},
   "outputs": [
    {
     "name": "stdout",
     "output_type": "stream",
     "text": [
      "<SchemaandData>\r\n",
      "  <xs:schema id=\"NewDataSet\" xmlns=\"\" xmlns:xs=\"http://www.w3.org/2001/XMLSchema\" xmlns:msdata=\"urn:schemas-microsoft-com:xml-msdata\">\r\n",
      "    <xs:element name=\"NewDataSet\" msdata:IsDataSet=\"true\" msdata:UseCurrentLocale=\"true\">\r\n",
      "      <xs:complexType>\r\n",
      "        <xs:choice minOccurs=\"0\" maxOccurs=\"unbounded\">\r\n",
      "          <xs:element name=\"Table\">\r\n",
      "            <xs:complexType>\r\n",
      "              <xs:sequence>\r\n",
      "                <xs:element name=\"SECURITY_CONTEXT\" type=\"xs:string\" minOccurs=\"0\" />\r\n",
      "                <xs:element name=\"CallID\" type=\"xs:int\" minOccurs=\"0\" />\r\n",
      "                <xs:element name=\"ContactDate\" msdata:DateTimeMode=\"Unspecified\" type=\"xs:dateTime\" minOccurs=\"0\" />\r\n",
      "                <xs:element name=\"FollowUpDate\" msdata:DateTimeMode=\"Unspecified\" type=\"xs:dateTime\" minOccurs=\"0\" />\r\n",
      "                <xs:element name=\"FollowUpCompleted\" type=\"xs:boolean\" minOccurs=\"0\" />\r\n",
      "                <xs:element name=\"ContactLogTypeID\" type=\"xs:int\" minOccurs=\"0\" />\r\n",
      "                <xs:element name=\"Notes\" type=\"xs:string\" minOccurs=\"0\" />\r\n",
      "                <xs:element name=\"ContactID\" type=\"xs:int\" minOccurs=\"0\" />\r\n",
      "                <xs:element name=\"Notified\" type=\"xs:int\" minOccurs=\"0\" />\r\n",
      "                <xs:element name=\"UserDisplayName\" type=\"xs:string\" minOccurs=\"0\" />\r\n",
      "                <xs:element name=\"EMail\" type=\"xs:string\" minOccurs=\"0\" />\r\n",
      "                <xs:element name=\"Phone\" type=\"xs:string\" minOccurs=\"0\" />\r\n",
      "                <xs:element name=\"ContactName\" type=\"xs:string\" minOccurs=\"0\" />\r\n",
      "                <xs:element name=\"Attachment\" type=\"xs:string\" minOccurs=\"0\" />\r\n",
      "                <xs:element name=\"TrackingGuid\" msdata:DataType=\"System.Guid, mscorlib, Version=4.0.0.0, Culture=neutral, PublicKeyToken=b77a5c561934e089\" type=\"xs:string\" minOccurs=\"0\" />\r\n",
      "                <xs:element name=\"EntityGuid\" msdata:DataType=\"System.Guid, mscorlib, Version=4.0.0.0, Culture=neutral, PublicKeyToken=b77a5c561934e089\" type=\"xs:string\" minOccurs=\"0\" />\r\n",
      "                <xs:element name=\"Subject\" type=\"xs:string\" minOccurs=\"0\" />\r\n",
      "                <xs:element name=\"grid_sort\" type=\"xs:string\" minOccurs=\"0\" />\r\n",
      "              </xs:sequence>\r\n",
      "            </xs:complexType>\r\n",
      "          </xs:element>\r\n",
      "          <xs:element name=\"Table1\">\r\n",
      "            <xs:complexType>\r\n",
      "              <xs:sequence>\r\n",
      "                <xs:element name=\"CallID\" type=\"xs:int\" minOccurs=\"0\" />\r\n",
      "                <xs:element name=\"TimeEdited\" type=\"xs:base64Binary\" minOccurs=\"0\" />\r\n",
      "                <xs:element name=\"Subject\" type=\"xs:string\" minOccurs=\"0\" />\r\n",
      "              </xs:sequence>\r\n",
      "            </xs:complexType>\r\n",
      "          </xs:element>\r\n",
      "        </xs:choice>\r\n",
      "      </xs:complexType>\r\n",
      "    </xs:element>\r\n",
      "  </xs:schema>\r\n",
      "  <NewDataSet>\r\n",
      "    <Table>\r\n",
      "      <SECURITY_CONTEXT />\r\n",
      "      <CallID>2</CallID>\r\n",
      "      <ContactDate>2017-08-09T00:00:00</ContactDate>\r\n",
      "      <FollowUpDate>2017-08-14T00:00:00</FollowUpDate>\r\n",
      "      <ContactLogTypeID>1</ContactLogTypeID>\r\n",
      "      <Notes>Left VM for provider requesting an updated copy of their COI.  KMR</Notes>\r\n",
      "      <ContactID>0</ContactID>\r\n",
      "      <UserDisplayName>Pamela Hickey</UserDisplayName>\r\n",
      "      <ContactName>Test Practioner</ContactName>\r\n",
      "      <EntityGuid>1c71baf2-4edd-4391-8cd7-e40c0b38564d</EntityGuid>\r\n",
      "      <Subject>COI</Subject>\r\n",
      "    </Table>\r\n",
      "    <Table>\r\n",
      "      <SECURITY_CONTEXT />\r\n",
      "      <CallID>3</CallID>\r\n",
      "      <ContactDate>2017-08-09T00:00:00</ContactDate>\r\n",
      "      <FollowUpDate>2017-08-14T00:00:00</FollowUpDate>\r\n",
      "      <ContactLogTypeID>5</ContactLogTypeID>\r\n",
      "      <Notes>Sent Email to provider requesting an updated NM DEA.  KMR</Notes>\r\n",
      "      <ContactID>0</ContactID>\r\n",
      "      <UserDisplayName>Kathleen Reynolds</UserDisplayName>\r\n",
      "      <ContactName>Test Practioner</ContactName>\r\n",
      "      <EntityGuid>1c71baf2-4edd-4391-8cd7-e40c0b38564d</EntityGuid>\r\n",
      "      <Subject>DEA</Subject>\r\n",
      "    </Table>\r\n",
      "    <Table1>\r\n",
      "      <CallID>2</CallID>\r\n",
      "      <TimeEdited>AAAAAAACLDU=</TimeEdited>\r\n",
      "      <Subject>COI</Subject>\r\n",
      "    </Table1>\r\n",
      "    <Table1>\r\n",
      "      <CallID>3</CallID>\r\n",
      "      <TimeEdited>AAAAAAACLDY=</TimeEdited>\r\n",
      "      <Subject>DEA</Subject>\r\n",
      "    </Table1>\r\n",
      "  </NewDataSet>\r\n",
      "</SchemaandData>\n"
     ]
    }
   ],
   "source": [
    "print(connection.get_contact_log(305))"
   ]
  }
 ],
 "metadata": {
  "kernelspec": {
   "display_name": "Python 3",
   "language": "python",
   "name": "python3"
  },
  "language_info": {
   "codemirror_mode": {
    "name": "ipython",
    "version": 3
   },
   "file_extension": ".py",
   "mimetype": "text/x-python",
   "name": "python",
   "nbconvert_exporter": "python",
   "pygments_lexer": "ipython3",
   "version": "3.6.2"
  }
 },
 "nbformat": 4,
 "nbformat_minor": 2
}
