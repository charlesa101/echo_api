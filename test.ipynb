{
 "cells": [
  {
   "cell_type": "code",
   "execution_count": 1,
   "metadata": {},
   "outputs": [],
   "source": [
    "from echo_api import Connection, Settings\n",
    "from xmlmanip import XMLSchema\n",
    "import xml.etree.ElementTree as ET\n",
    "\n",
    "from requests import Session\n",
    "\n",
    "from zeep import Client\n",
    "from zeep.transports import Transport"
   ]
  },
  {
   "cell_type": "code",
   "execution_count": 2,
   "metadata": {
    "collapsed": true
   },
   "outputs": [],
   "source": [
    "connection = Connection()"
   ]
  },
  {
   "cell_type": "code",
   "execution_count": 3,
   "metadata": {},
   "outputs": [
    {
     "data": {
      "text/plain": [
       "'Success|This message from WCF Service. You are connected!'"
      ]
     },
     "execution_count": 3,
     "metadata": {},
     "output_type": "execute_result"
    }
   ],
   "source": [
    "connection.client.service.API_Test()"
   ]
  },
  {
   "cell_type": "code",
   "execution_count": 16,
   "metadata": {
    "collapsed": true
   },
   "outputs": [],
   "source": [
    "class Connection:\n",
    "    def get_physician(self, physician_id):\n",
    "        args = [self.session_id, \"PhysicianDetail\", \"Symed\", f\"@PhysicianID|{physician_id}|int\"]\n",
    "        result = self.client.service.API_GetData(*args)\n",
    "\n",
    "        if \"Error|\" in result:\n",
    "            raise APICallError(result)\n",
    "\n",
    "        else:\n",
    "            return result\n",
    "\n",
    "    def add_physician(self, office_id, **kwargs):\n",
    "        args = [self.session_id, \"Locations\", \"Provider\", \"PhysicianDetail_Create\", 5, f\"@OfficeID|{office_id}|int\"]\n",
    "        result = self.client.service.API_TreeDataCommand(*args)\n",
    "        if \"Error|\" in result:\n",
    "            raise APICallError(result)\n",
    "        else:\n",
    "            if len(kwargs) != 0:\n",
    "                physician_id = result.split(\"|\")[1]\n",
    "                return self.edit_physician(physician_id, **kwargs)\n",
    "            else:\n",
    "                return result\n",
    "\n",
    "    def edit_physician(self, physician_id, **kwargs):\n",
    "        physician = self.get_physician(physician_id)\n",
    "        schema_and_data = ET.fromstring(physician)\n",
    "        for key, value in kwargs.items():\n",
    "            if schema_and_data[1][0].find(key) is None:\n",
    "                new_attr = ET.SubElement(schema_and_data[1][0], key)\n",
    "                new_attr.text = value\n",
    "            else:\n",
    "                schema_and_data[1][0].find(key).text = value\n",
    "        updated_schema = ET.tostring(schema_and_data)\n",
    "        args = [self.session_id, \"Locations\", \"Provider\", \"PhysicianDetail\",\n",
    "                \"Symed\", f\"@PhysicianID|{physician_id}|int\", updated_schema]\n",
    "        result = self.client.service.API_UpdateData(*args)\n",
    "        if \"Error|\" in result:\n",
    "            raise APICallError(result)\n",
    "        else:\n",
    "            return result\n",
    "        \n",
    "    def delete_physician(self, physician_id):\n",
    "        args = [self.session_id, \"Locations\", \"Provider\", \"PhysicianDetail_Delete\", 6, f\"@PhysicianID|{physician_id}|int\"]\n",
    "        result = self.client.service.API_TreeDataCommand(*args)\n",
    "        if \"Error|\" in result:\n",
    "            raise APICallError(result)\n",
    "        else:\n",
    "            return result\n",
    "\n",
    "    def get_newest_physician(self):\n",
    "        qs = \"SELECT * FROM PhysicianDetail\"\n",
    "        schema_str = self.client.service.API_GeneralQuery(self.session_id, qs, \"\")\n",
    "        schema = XMLSchema(schema_str)\n",
    "        paths = schema.locate(PhysicianID__ne='-1')\n",
    "        physicians = [schema.retrieve('__'.join(path.split('__')[:-1])) for path in paths]\n",
    "        return sorted(physicians, key=lambda x: int(x['PhysicianID']), reverse=True)[0]\n",
    "\n",
    "    def get_office(self, office_id):\n",
    "        args = [self.session_id, \"Office\", \"Symed\", f\"@OfficeID|{office_id}|int\"]\n",
    "        result = self.client.service.API_GetData(*args)\n",
    "\n",
    "        if \"Error|\" in result:\n",
    "            raise APICallError(result)\n",
    "        else:\n",
    "            return result\n",
    "\n",
    "    def get_newest_office(self):\n",
    "        qs = \"SELECT * FROM Offices\"\n",
    "        schema_str = self.client.service.API_GeneralQuery(self.session_id, qs, \"\")\n",
    "        schema = XMLSchema(schema_str)\n",
    "        paths = schema.locate(OfficeID__ne='-1')\n",
    "        offices = [schema.retrieve('__'.join(path.split('__')[:-1])) for path in paths]\n",
    "        return sorted(offices, key=lambda x: int(x['OfficeID']), reverse=True)[0]\n",
    "\n",
    "    def __init__(self, settings=Settings()):\n",
    "        self.endpoint = settings.ENDPOINT\n",
    "        self.session = Session()\n",
    "        self.client = Client(settings.WSDL_LOCATION, transport=Transport(session=self.session))\n",
    "        if \"Success\" in self.client.service.API_Test():\n",
    "            self.session_id = self.client.service.API_Login(settings.USERNAME, settings.PASSWORD).split(\"|\")[1]\n",
    "        else:\n",
    "            raise APITestFailError(\"Test connection failed.\")"
   ]
  },
  {
   "cell_type": "code",
   "execution_count": 17,
   "metadata": {
    "collapsed": true
   },
   "outputs": [],
   "source": [
    "connection = Connection()"
   ]
  },
  {
   "cell_type": "code",
   "execution_count": 26,
   "metadata": {},
   "outputs": [
    {
     "data": {
      "text/plain": [
       "'Success|Item Deleted'"
      ]
     },
     "execution_count": 26,
     "metadata": {},
     "output_type": "execute_result"
    }
   ],
   "source": [
    "connection.delete_physician(310)"
   ]
  },
  {
   "cell_type": "code",
   "execution_count": 29,
   "metadata": {},
   "outputs": [
    {
     "name": "stdout",
     "output_type": "stream",
     "text": [
      "{\n",
      "  \"PhysicianID\": \"311\",\n",
      "  \"LastName\": \"Jorissen\",\n",
      "  \"FirstName\": \"John-Paul2\",\n",
      "  \"Citizenship\": \"USA\",\n",
      "  \"TimeEdited\": \"AAAAAAACMDc=\",\n",
      "  \"Inactive\": \"false\",\n",
      "  \"DateAdded\": \"2017-08-18T14:39:27.96\",\n",
      "  \"EntityGuid\": \"3b8f2623-c290-4ddc-b49b-d1aa463a07b1\"\n",
      "}\n"
     ]
    }
   ],
   "source": [
    "print(connection.get_newest_physician())"
   ]
  },
  {
   "cell_type": "code",
   "execution_count": null,
   "metadata": {
    "collapsed": true
   },
   "outputs": [],
   "source": []
  }
 ],
 "metadata": {
  "kernelspec": {
   "display_name": "Python 3",
   "language": "python",
   "name": "python3"
  },
  "language_info": {
   "codemirror_mode": {
    "name": "ipython",
    "version": 3
   },
   "file_extension": ".py",
   "mimetype": "text/x-python",
   "name": "python",
   "nbconvert_exporter": "python",
   "pygments_lexer": "ipython3",
   "version": "3.6.1"
  }
 },
 "nbformat": 4,
 "nbformat_minor": 2
}
