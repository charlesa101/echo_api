{
 "cells": [
  {
   "cell_type": "markdown",
   "metadata": {},
   "source": [
    "# Installation"
   ]
  },
  {
   "cell_type": "raw",
   "metadata": {},
   "source": [
    "pip install echo_api"
   ]
  },
  {
   "cell_type": "markdown",
   "metadata": {},
   "source": [
    "# Configuration"
   ]
  },
  {
   "cell_type": "markdown",
   "metadata": {},
   "source": [
    "## Secrets"
   ]
  },
  {
   "cell_type": "markdown",
   "metadata": {},
   "source": [
    "`echo_api` is configured to take credentials from a file named `secrets.json` that is expected by default in your working directory. `secrets.json` should look like:"
   ]
  },
  {
   "cell_type": "raw",
   "metadata": {},
   "source": [
    "{\n",
    "    \"USERNAME\": \"Username\",\n",
    "    \"PASSWORD\": \"P4ssw0rd123\",\n",
    "    \"WSDL_LOCATION\": \"wsdl.xml\",\n",
    "    \"ENDPOINT\": \"https://cloud.echooneappcloud.com/yourorganization/OneAppWebService\"\n",
    "}"
   ]
  },
  {
   "cell_type": "markdown",
   "metadata": {},
   "source": [
    "If you want `secrets.json` to be somewhere other than your project directory, you will need to set it in a `Settings` object and make reference to it in your `Connection`. More on that below."
   ]
  },
  {
   "cell_type": "markdown",
   "metadata": {},
   "source": [
    "Note that you must have credentials for a user that has access to the API before you can proceed."
   ]
  },
  {
   "cell_type": "markdown",
   "metadata": {},
   "source": [
    "## API Definition"
   ]
  },
  {
   "cell_type": "markdown",
   "metadata": {},
   "source": [
    "Due to the possibility of some configuration issues on Echo's side, you will need to manually inspect the XML describing the API and ensure that the endpoint definition is correct. Copy and paste this into the address bar on your browser (you will need to change it to be your organization):"
   ]
  },
  {
   "cell_type": "markdown",
   "metadata": {},
   "source": [
    "https://cloud.echooneappcloud.com/yourorganization/OneAppWebService.svc?singleWsdl"
   ]
  },
  {
   "cell_type": "markdown",
   "metadata": {},
   "source": [
    "Copy and paste the XML response into an XML file (`wsdl.xml`) in your project directory and scroll all the way to the bottom until you see:"
   ]
  },
  {
   "cell_type": "raw",
   "metadata": {},
   "source": [
    "<wsdl:port name=\"BasicHttpBinding_OneAppWebService_SSL\" binding=\"tns:BasicHttpBinding_OneAppWebService_SSL\">\n",
    "    <soap:address location=\"https://eoaapp0.echooneapp.com/YourOrganization/OneAppWebService.svc\"/>\n",
    "    </wsdl:port>\n",
    "</wsdl:service>"
   ]
  },
  {
   "cell_type": "markdown",
   "metadata": {},
   "source": [
    "You will want to change"
   ]
  },
  {
   "cell_type": "raw",
   "metadata": {},
   "source": [
    "<soap:address location=\"https://eoaapp0.echooneapp.com/YourOrganization/OneAppWebService.svc\"/>"
   ]
  },
  {
   "cell_type": "markdown",
   "metadata": {},
   "source": [
    "to"
   ]
  },
  {
   "cell_type": "raw",
   "metadata": {},
   "source": [
    "<soap:address location=\"https://cloud.echooneappcloud.com/yourorganization/OneAppWebService\"/>"
   ]
  },
  {
   "cell_type": "markdown",
   "metadata": {},
   "source": [
    "Once you've set up your wsdl and secrets files, test your connection. For a secrets file that will remain in your project directory, simply use:"
   ]
  },
  {
   "cell_type": "code",
   "execution_count": 1,
   "metadata": {},
   "outputs": [
    {
     "data": {
      "text/plain": [
       "'IAMYOURSESSIONID'"
      ]
     },
     "execution_count": 1,
     "metadata": {},
     "output_type": "execute_result"
    }
   ],
   "source": [
    "from echo_api import Connection\n",
    "# Connection() will log you in if everything is correctly configured.\n",
    "connection = Connection()\n",
    "connection.session_id"
   ]
  },
  {
   "cell_type": "markdown",
   "metadata": {},
   "source": [
    "If you wish to use a custom secrets location, you will need to create a `Settings` object and use that when creating your connection. "
   ]
  },
  {
   "cell_type": "code",
   "execution_count": 4,
   "metadata": {},
   "outputs": [],
   "source": [
    "from echo_api import Settings, Connection\n",
    "# secrets_location is full or relative path to secrets location\n",
    "settings = Settings(secrets_location='secrets.json')\n",
    "connection = Connection(settings=settings)"
   ]
  }
 ],
 "metadata": {
  "kernelspec": {
   "display_name": "Python 3",
   "language": "python",
   "name": "python3"
  },
  "language_info": {
   "codemirror_mode": {
    "name": "ipython",
    "version": 3
   },
   "file_extension": ".py",
   "mimetype": "text/x-python",
   "name": "python",
   "nbconvert_exporter": "python",
   "pygments_lexer": "ipython3",
   "version": "3.6.1"
  }
 },
 "nbformat": 4,
 "nbformat_minor": 2
}
