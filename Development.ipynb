{
 "cells": [
  {
   "cell_type": "code",
   "execution_count": 1,
   "metadata": {
    "collapsed": true
   },
   "outputs": [],
   "source": [
    "import os\n",
    "import unittest\n",
    "os.environ['ECHO_SECRETS_LOCATION'] = '/home/jjorissen/echo_secrets.conf'"
   ]
  },
  {
   "cell_type": "code",
   "execution_count": 2,
   "metadata": {
    "collapsed": true
   },
   "outputs": [],
   "source": [
    "from echo_api import EchoConnection"
   ]
  },
  {
   "cell_type": "code",
   "execution_count": 3,
   "metadata": {
    "collapsed": true
   },
   "outputs": [],
   "source": [
    "connection = EchoConnection()"
   ]
  },
  {
   "cell_type": "code",
   "execution_count": 4,
   "metadata": {},
   "outputs": [
    {
     "data": {
      "text/plain": [
       "SchemaInnerDict([('AutoID', '303'),\n",
       "                 ('PhysicianID', '307'),\n",
       "                 ('LicenseNumber', 'API1234'),\n",
       "                 ('LicenseStatus', 'Is a Go 2'),\n",
       "                 ('TimeEdited', 'AAAAAAAD/MM='),\n",
       "                 ('DateUpdated', '2017-09-06T12:54:03.277')])"
      ]
     },
     "execution_count": 4,
     "metadata": {},
     "output_type": "execute_result"
    }
   ],
   "source": [
    "connection.show_physician(1)\n",
    "connection.show_medical_licenses(1)\n",
    "connection.show_office(1)\n",
    "connection.show_physician_contact_log(1)\n",
    "connection.show_latest_office()\n",
    "connection.show_latest_practice()\n",
    "connection.show_latest_physician()\n",
    "connection.show_latest_contact_log()\n",
    "connection.show_latest_medical_license()"
   ]
  },
  {
   "cell_type": "code",
   "execution_count": 14,
   "metadata": {
    "collapsed": true
   },
   "outputs": [],
   "source": [
    "class TestShowers(EchoConnection, unittest.TestCase):\n",
    "    def body(self):\n",
    "        self.show_physician(1)\n",
    "        self.show_medical_licenses(1)\n",
    "        self.show_office(1)\n",
    "        self.show_physician_contact_log(1)\n",
    "        self.show_latest_office()\n",
    "        self.show_latest_practice()\n",
    "        self.show_latest_physician()\n",
    "        self.show_latest_contact_log()\n",
    "        self.show_latest_medical_license()\n",
    "    \n",
    "    def test_showers(self):\n",
    "        self.body()"
   ]
  },
  {
   "cell_type": "code",
   "execution_count": null,
   "metadata": {
    "collapsed": true
   },
   "outputs": [],
   "source": []
  }
 ],
 "metadata": {
  "kernelspec": {
   "display_name": "Python (echo)",
   "language": "python",
   "name": "echo"
  },
  "language_info": {
   "codemirror_mode": {
    "name": "ipython",
    "version": 3
   },
   "file_extension": ".py",
   "mimetype": "text/x-python",
   "name": "python",
   "nbconvert_exporter": "python",
   "pygments_lexer": "ipython3",
   "version": "3.6.2"
  }
 },
 "nbformat": 4,
 "nbformat_minor": 2
}
