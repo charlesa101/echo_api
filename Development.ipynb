{
 "cells": [
  {
   "cell_type": "code",
   "execution_count": 1,
   "metadata": {
    "collapsed": true
   },
   "outputs": [],
   "source": [
    "import os\n",
    "import unittest, moment, xmlmanip, pandas\n",
    "os.environ['INTERFACE_CONF_FILE'] = '/home/jjorissen/interface_secrets.conf'\n",
    "from echo_api.api import EchoConnection"
   ]
  },
  {
   "cell_type": "code",
   "execution_count": 2,
   "metadata": {
    "collapsed": true
   },
   "outputs": [],
   "source": [
    "connection = EchoConnection()"
   ]
  },
  {
   "cell_type": "code",
   "execution_count": 4,
   "metadata": {
    "collapsed": true
   },
   "outputs": [],
   "source": [
    "physicians = pandas.DataFrame(connection.show_physicians())\n",
    "contact_logs = pandas.DataFrame(connection.show_contact_logs())\n",
    "medical_licenses = pandas.DataFrame(connection.show_medical_licenses())\n",
    "offices = pandas.DataFrame(connection.show_offices())"
   ]
  },
  {
   "cell_type": "code",
   "execution_count": 5,
   "metadata": {},
   "outputs": [],
   "source": [
    "physicians.to_csv('echo_physician.csv', index=False)\n",
    "contact_logs.to_csv('echo_contact_logs.csv', index=False)\n",
    "medical_licenses.to_csv('echo_medical_licenses.csv', index=False)\n",
    "offices.to_csv('echo_office.csv', index=False)"
   ]
  },
  {
   "cell_type": "code",
   "execution_count": null,
   "metadata": {
    "collapsed": true
   },
   "outputs": [],
   "source": []
  }
 ],
 "metadata": {
  "kernelspec": {
   "display_name": "Python (echo)",
   "language": "python",
   "name": "echo"
  },
  "language_info": {
   "codemirror_mode": {
    "name": "ipython",
    "version": 3
   },
   "file_extension": ".py",
   "mimetype": "text/x-python",
   "name": "python",
   "nbconvert_exporter": "python",
   "pygments_lexer": "ipython3",
   "version": "3.6.2"
  }
 },
 "nbformat": 4,
 "nbformat_minor": 2
}
