{
 "cells": [
  {
   "cell_type": "code",
   "execution_count": 1,
   "metadata": {
    "collapsed": true
   },
   "outputs": [],
   "source": [
    "import os\n",
    "import unittest, moment\n",
    "os.environ['INTERFACE_CONF_FILE'] = '/home/jjorissen/interface_secrets.conf'"
   ]
  },
  {
   "cell_type": "code",
   "execution_count": 6,
   "metadata": {
    "collapsed": true
   },
   "outputs": [],
   "source": [
    "from echo_api.api import EchoConnection\n",
    "import xmlmanip"
   ]
  },
  {
   "cell_type": "code",
   "execution_count": 3,
   "metadata": {
    "collapsed": true
   },
   "outputs": [],
   "source": [
    "connection = EchoConnection()"
   ]
  },
  {
   "cell_type": "code",
   "execution_count": 4,
   "metadata": {},
   "outputs": [
    {
     "data": {
      "text/plain": [
       "'60e04aba-f548-41c6-9194-4c5dde6d4359'"
      ]
     },
     "execution_count": 4,
     "metadata": {},
     "output_type": "execute_result"
    }
   ],
   "source": [
    "connection._get_physician_guid(307)"
   ]
  },
  {
   "cell_type": "code",
   "execution_count": 8,
   "metadata": {},
   "outputs": [
    {
     "data": {
      "text/plain": [
       "[SchemaInnerDict([('SECURITY_CONTEXT', None),\n",
       "                  ('CallID', '10'),\n",
       "                  ('ContactDate', '2017-09-18T16:41:00'),\n",
       "                  ('FollowUpCompleted', 'false'),\n",
       "                  ('ContactLogTypeID', '5'),\n",
       "                  ('Notes', 'I am a new minimal note!'),\n",
       "                  ('ContactID', '0'),\n",
       "                  ('UserDisplayName', 'Kathleen Reynolds'),\n",
       "                  ('ContactName', 'John-Paul Jorissen'),\n",
       "                  ('EntityGuid', '60e04aba-f548-41c6-9194-4c5dde6d4359'),\n",
       "                  ('Subject', 'Not a whole lot')]),\n",
       " SchemaInnerDict([('CallID', '10'),\n",
       "                  ('TimeEdited', 'AAAAAAAEGO4='),\n",
       "                  ('Subject', 'Not a whole lot')]),\n",
       " SchemaInnerDict([('SECURITY_CONTEXT', None),\n",
       "                  ('CallID', '11'),\n",
       "                  ('Notes', 'New Note 2!'),\n",
       "                  ('ContactID', '0'),\n",
       "                  ('UserDisplayName', 'Kathleen'),\n",
       "                  ('ContactName', 'John-Paul Jorissen'),\n",
       "                  ('EntityGuid', '60e04aba-f548-41c6-9194-4c5dde6d4359'),\n",
       "                  ('Subject', 'Not a whole lot 2')]),\n",
       " SchemaInnerDict([('CallID', '11'),\n",
       "                  ('TimeEdited', 'AAAAAAAEGPE='),\n",
       "                  ('Subject', 'Not a whole lot 2')]),\n",
       " SchemaInnerDict([('SECURITY_CONTEXT', None),\n",
       "                  ('CallID', '12'),\n",
       "                  ('ContactDate', '2017-09-18T17:19:40'),\n",
       "                  ('Notes', 'New Note 3!'),\n",
       "                  ('ContactID', '0'),\n",
       "                  ('UserDisplayName', 'Back-end API User'),\n",
       "                  ('ContactName', 'John-Paul Jorissen'),\n",
       "                  ('EntityGuid', '60e04aba-f548-41c6-9194-4c5dde6d4359'),\n",
       "                  ('Subject', 'Is my Thing working?')]),\n",
       " SchemaInnerDict([('CallID', '12'),\n",
       "                  ('TimeEdited', 'AAAAAAAEGPU='),\n",
       "                  ('Subject', 'Is my Thing working?')])]"
      ]
     },
     "execution_count": 8,
     "metadata": {},
     "output_type": "execute_result"
    }
   ],
   "source": [
    "connection.show_physician_contact_log(307)"
   ]
  },
  {
   "cell_type": "code",
   "execution_count": 7,
   "metadata": {},
   "outputs": [
    {
     "ename": "NameError",
     "evalue": "name 'xmlmanp' is not defined",
     "output_type": "error",
     "traceback": [
      "\u001b[0;31m---------------------------------------------------------------------------\u001b[0m",
      "\u001b[0;31mNameError\u001b[0m                                 Traceback (most recent call last)",
      "\u001b[0;32m<ipython-input-7-547a4e6dc7f8>\u001b[0m in \u001b[0;36m<module>\u001b[0;34m()\u001b[0m\n\u001b[1;32m      1\u001b[0m respsonse = connection.add_contact_log_entry(307, Notes=\"New Note 3!\", ContactID=0, \n\u001b[1;32m      2\u001b[0m                                  Subject=\"Is my Thing working?\")\n\u001b[0;32m----> 3\u001b[0;31m \u001b[0mxmlmanp\u001b[0m\u001b[0;34m.\u001b[0m\u001b[0mprint_xml\u001b[0m\u001b[0;34m(\u001b[0m\u001b[0mresponse\u001b[0m\u001b[0;34m)\u001b[0m\u001b[0;34m\u001b[0m\u001b[0m\n\u001b[0m",
      "\u001b[0;31mNameError\u001b[0m: name 'xmlmanp' is not defined"
     ]
    }
   ],
   "source": [
    "response = connection.add_contact_log_entry(307, Notes=\"New Note 3!\", ContactID=0, \n",
    "                                 Subject=\"Is my Thing working?\")\n",
    "xmlmanip.print_xml(response)"
   ]
  },
  {
   "cell_type": "code",
   "execution_count": 10,
   "metadata": {},
   "outputs": [
    {
     "name": "stdout",
     "output_type": "stream",
     "text": [
      "<?xml version=\"1.0\" encoding=\"utf-8\"?>\n",
      "<SchemaandData>\n",
      " <xs:schema id=\"NewDataSet\" xmlns=\"\" xmlns:msdata=\"urn:schemas-microsoft-com:xml-msdata\" xmlns:xs=\"http://www.w3.org/2001/XMLSchema\">\n",
      "  <xs:element msdata:IsDataSet=\"true\" msdata:UseCurrentLocale=\"true\" name=\"NewDataSet\">\n",
      "   <xs:complexType>\n",
      "    <xs:choice maxOccurs=\"unbounded\" minOccurs=\"0\">\n",
      "     <xs:element name=\"Table\">\n",
      "      <xs:complexType>\n",
      "       <xs:sequence>\n",
      "        <xs:element minOccurs=\"0\" name=\"SECURITY_CONTEXT\" type=\"xs:string\"/>\n",
      "        <xs:element minOccurs=\"0\" name=\"CallID\" type=\"xs:int\"/>\n",
      "        <xs:element minOccurs=\"0\" msdata:DateTimeMode=\"Unspecified\" name=\"ContactDate\" type=\"xs:dateTime\"/>\n",
      "        <xs:element minOccurs=\"0\" msdata:DateTimeMode=\"Unspecified\" name=\"FollowUpDate\" type=\"xs:dateTime\"/>\n",
      "        <xs:element minOccurs=\"0\" name=\"FollowUpCompleted\" type=\"xs:boolean\"/>\n",
      "        <xs:element minOccurs=\"0\" name=\"ContactLogTypeID\" type=\"xs:int\"/>\n",
      "        <xs:element minOccurs=\"0\" name=\"Notes\" type=\"xs:string\"/>\n",
      "        <xs:element minOccurs=\"0\" name=\"ContactID\" type=\"xs:int\"/>\n",
      "        <xs:element minOccurs=\"0\" name=\"Notified\" type=\"xs:int\"/>\n",
      "        <xs:element minOccurs=\"0\" name=\"UserDisplayName\" type=\"xs:string\"/>\n",
      "        <xs:element minOccurs=\"0\" name=\"EMail\" type=\"xs:string\"/>\n",
      "        <xs:element minOccurs=\"0\" name=\"Phone\" type=\"xs:string\"/>\n",
      "        <xs:element minOccurs=\"0\" name=\"ContactName\" type=\"xs:string\"/>\n",
      "        <xs:element minOccurs=\"0\" name=\"Attachment\" type=\"xs:string\"/>\n",
      "        <xs:element minOccurs=\"0\" msdata:DataType=\"System.Guid, mscorlib, Version=4.0.0.0, Culture=neutral, PublicKeyToken=b77a5c561934e089\" name=\"TrackingGuid\" type=\"xs:string\"/>\n",
      "        <xs:element minOccurs=\"0\" msdata:DataType=\"System.Guid, mscorlib, Version=4.0.0.0, Culture=neutral, PublicKeyToken=b77a5c561934e089\" name=\"EntityGuid\" type=\"xs:string\"/>\n",
      "        <xs:element minOccurs=\"0\" name=\"Subject\" type=\"xs:string\"/>\n",
      "        <xs:element minOccurs=\"0\" name=\"grid_sort\" type=\"xs:string\"/>\n",
      "       </xs:sequence>\n",
      "      </xs:complexType>\n",
      "     </xs:element>\n",
      "     <xs:element name=\"Table1\">\n",
      "      <xs:complexType>\n",
      "       <xs:sequence>\n",
      "        <xs:element minOccurs=\"0\" name=\"CallID\" type=\"xs:int\"/>\n",
      "        <xs:element minOccurs=\"0\" name=\"TimeEdited\" type=\"xs:base64Binary\"/>\n",
      "        <xs:element minOccurs=\"0\" name=\"Subject\" type=\"xs:string\"/>\n",
      "       </xs:sequence>\n",
      "      </xs:complexType>\n",
      "     </xs:element>\n",
      "    </xs:choice>\n",
      "   </xs:complexType>\n",
      "  </xs:element>\n",
      " </xs:schema>\n",
      " <NewDataSet>\n",
      "  <Table>\n",
      "   <SECURITY_CONTEXT/>\n",
      "   <CallID>\n",
      "    12\n",
      "   </CallID>\n",
      "   <ContactDate>\n",
      "    2017-09-18T17:19:40\n",
      "   </ContactDate>\n",
      "   <Notes>\n",
      "    New Note 3!\n",
      "   </Notes>\n",
      "   <ContactID>\n",
      "    0\n",
      "   </ContactID>\n",
      "   <UserDisplayName>\n",
      "    Back-end API User\n",
      "   </UserDisplayName>\n",
      "   <ContactName>\n",
      "    John-Paul Jorissen\n",
      "   </ContactName>\n",
      "   <EntityGuid>\n",
      "    60e04aba-f548-41c6-9194-4c5dde6d4359\n",
      "   </EntityGuid>\n",
      "   <Subject>\n",
      "    Is my Thing working?\n",
      "   </Subject>\n",
      "  </Table>\n",
      "  <Table>\n",
      "   <SECURITY_CONTEXT/>\n",
      "   <CallID>\n",
      "    10\n",
      "   </CallID>\n",
      "   <ContactDate>\n",
      "    2017-09-18T16:41:00\n",
      "   </ContactDate>\n",
      "   <FollowUpCompleted>\n",
      "    false\n",
      "   </FollowUpCompleted>\n",
      "   <ContactLogTypeID>\n",
      "    5\n",
      "   </ContactLogTypeID>\n",
      "   <Notes>\n",
      "    I am a new minimal note!\n",
      "   </Notes>\n",
      "   <ContactID>\n",
      "    0\n",
      "   </ContactID>\n",
      "   <UserDisplayName>\n",
      "    Kathleen Reynolds\n",
      "   </UserDisplayName>\n",
      "   <ContactName>\n",
      "    John-Paul Jorissen\n",
      "   </ContactName>\n",
      "   <EntityGuid>\n",
      "    60e04aba-f548-41c6-9194-4c5dde6d4359\n",
      "   </EntityGuid>\n",
      "   <Subject>\n",
      "    Not a whole lot\n",
      "   </Subject>\n",
      "  </Table>\n",
      "  <Table>\n",
      "   <SECURITY_CONTEXT/>\n",
      "   <CallID>\n",
      "    11\n",
      "   </CallID>\n",
      "   <Notes>\n",
      "    New Note 2!\n",
      "   </Notes>\n",
      "   <ContactID>\n",
      "    0\n",
      "   </ContactID>\n",
      "   <UserDisplayName>\n",
      "    Kathleen\n",
      "   </UserDisplayName>\n",
      "   <ContactName>\n",
      "    John-Paul Jorissen\n",
      "   </ContactName>\n",
      "   <EntityGuid>\n",
      "    60e04aba-f548-41c6-9194-4c5dde6d4359\n",
      "   </EntityGuid>\n",
      "   <Subject>\n",
      "    Not a whole lot 2\n",
      "   </Subject>\n",
      "  </Table>\n",
      "  <Table1>\n",
      "   <CallID>\n",
      "    12\n",
      "   </CallID>\n",
      "   <TimeEdited>\n",
      "    AAAAAAAEGPU=\n",
      "   </TimeEdited>\n",
      "   <Subject>\n",
      "    Is my Thing working?\n",
      "   </Subject>\n",
      "  </Table1>\n",
      "  <Table1>\n",
      "   <CallID>\n",
      "    10\n",
      "   </CallID>\n",
      "   <TimeEdited>\n",
      "    AAAAAAAEGO4=\n",
      "   </TimeEdited>\n",
      "   <Subject>\n",
      "    Not a whole lot\n",
      "   </Subject>\n",
      "  </Table1>\n",
      "  <Table1>\n",
      "   <CallID>\n",
      "    11\n",
      "   </CallID>\n",
      "   <TimeEdited>\n",
      "    AAAAAAAEGPE=\n",
      "   </TimeEdited>\n",
      "   <Subject>\n",
      "    Not a whole lot 2\n",
      "   </Subject>\n",
      "  </Table1>\n",
      " </NewDataSet>\n",
      "</SchemaandData>\n"
     ]
    }
   ],
   "source": [
    "xmlmanip.print_xml(respsonse)"
   ]
  },
  {
   "cell_type": "code",
   "execution_count": null,
   "metadata": {
    "collapsed": true
   },
   "outputs": [],
   "source": []
  },
  {
   "cell_type": "code",
   "execution_count": null,
   "metadata": {
    "collapsed": true
   },
   "outputs": [],
   "source": []
  }
 ],
 "metadata": {
  "kernelspec": {
   "display_name": "Python (echo)",
   "language": "python",
   "name": "echo"
  },
  "language_info": {
   "codemirror_mode": {
    "name": "ipython",
    "version": 3
   },
   "file_extension": ".py",
   "mimetype": "text/x-python",
   "name": "python",
   "nbconvert_exporter": "python",
   "pygments_lexer": "ipython3",
   "version": "3.6.2"
  }
 },
 "nbformat": 4,
 "nbformat_minor": 2
}
