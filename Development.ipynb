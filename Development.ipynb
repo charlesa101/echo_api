{
 "cells": [
  {
   "cell_type": "code",
   "execution_count": 10,
   "metadata": {},
   "outputs": [],
   "source": [
    "import os\n",
    "import unittest, moment\n",
    "os.environ['INTERFACE_CONF_FILE'] = '/home/jjorissen/interface_secrets.conf'\n",
    "from echo_api.api import EchoConnection, BaseConnection, Helpers, Adders, Editors, Deleters, Getters, Showers, handle_response, APICallError \n",
    "from xmlmanip import XMLSchema, inject_tags, print_xml"
   ]
  },
  {
   "cell_type": "code",
   "execution_count": 24,
   "metadata": {},
   "outputs": [
    {
     "data": {
      "text/plain": [
       "[SchemaInnerDict([('SECURITY_CONTEXT', None),\n",
       "                  ('CallID', '23'),\n",
       "                  ('ContactDate', '2017-09-19T19:37:22'),\n",
       "                  ('Notes', 'New Notes'),\n",
       "                  ('UserDisplayName', 'Back-end API User'),\n",
       "                  ('EntityGuid', '60e04aba-f548-41c6-9194-4c5dde6d4359'),\n",
       "                  ('Subject', 'New Subject')]),\n",
       " SchemaInnerDict([('CallID', '23'),\n",
       "                  ('TimeEdited', 'AAAAAAAEHxQ='),\n",
       "                  ('Subject', 'New Subject')]),\n",
       " SchemaInnerDict([('SECURITY_CONTEXT', None),\n",
       "                  ('CallID', '24'),\n",
       "                  ('ContactDate', '2017-09-19T19:39:46'),\n",
       "                  ('Notes', 'New Notes'),\n",
       "                  ('UserDisplayName', 'Back-end API User'),\n",
       "                  ('EntityGuid', '60e04aba-f548-41c6-9194-4c5dde6d4359'),\n",
       "                  ('Subject', 'New Subject')]),\n",
       " SchemaInnerDict([('CallID', '24'),\n",
       "                  ('TimeEdited', 'AAAAAAAEHxc='),\n",
       "                  ('Subject', 'New Subject')])]"
      ]
     },
     "execution_count": 24,
     "metadata": {},
     "output_type": "execute_result"
    }
   ],
   "source": [
    "connection = EchoConnection()\n",
    "schema_str = connection.get_contact_log(307)\n",
    "check_kwarg = {\"CallID__ne\": '-1'}\n",
    "kwarg = {\"CallID\":\"12\"}\n",
    "XMLSchema(schema_str).search(CallID__ne='10')"
   ]
  },
  {
   "cell_type": "code",
   "execution_count": 25,
   "metadata": {},
   "outputs": [],
   "source": [
    "response = connection.delete_contact_log_entry(307, limit=20, CallID__ne='10')"
   ]
  },
  {
   "cell_type": "code",
   "execution_count": 9,
   "metadata": {},
   "outputs": [
    {
     "data": {
      "text/plain": [
       "[SchemaInnerDict([('SECURITY_CONTEXT', None),\n",
       "                  ('CallID', '4'),\n",
       "                  ('ContactDate', '2017-09-06T00:00:00'),\n",
       "                  ('FollowUpCompleted', 'false'),\n",
       "                  ('ContactLogTypeID', '5'),\n",
       "                  ('ContactID', '0'),\n",
       "                  ('UserDisplayName', 'Kathleen Reynolds'),\n",
       "                  ('ContactName', 'Test Test'),\n",
       "                  ('EntityGuid', 'e43361b7-59f3-4e1f-92c1-1faa1f840b0f'),\n",
       "                  ('Subject', 'Simple Contact Log')]),\n",
       " SchemaInnerDict([('CallID', '4'),\n",
       "                  ('TimeEdited', 'AAAAAAAD/DY='),\n",
       "                  ('Subject', 'Simple Contact Log')]),\n",
       " SchemaInnerDict([('SECURITY_CONTEXT', None),\n",
       "                  ('CallID', '5'),\n",
       "                  ('ContactDate', '2017-09-06T00:00:00'),\n",
       "                  ('FollowUpDate', '2017-09-13T00:00:00'),\n",
       "                  ('FollowUpCompleted', 'false'),\n",
       "                  ('ContactLogTypeID', '5'),\n",
       "                  ('Notes',\n",
       "                   'This is a Test.\\n\\nWe need to ensure text items come in from Bullhorn here.\\n\\nKathleen'),\n",
       "                  ('ContactID', '1'),\n",
       "                  ('UserDisplayName', 'Kathleen Reynolds'),\n",
       "                  ('Attachment',\n",
       "                   'guid://278fcf4f-57e1-45ee-b2c5-2c0419de19e1'),\n",
       "                  ('EntityGuid', 'e43361b7-59f3-4e1f-92c1-1faa1f840b0f'),\n",
       "                  ('Subject', 'Complex')]),\n",
       " SchemaInnerDict([('CallID', '5'),\n",
       "                  ('TimeEdited', 'AAAAAAAD/D4='),\n",
       "                  ('Subject', 'Complex')])]"
      ]
     },
     "execution_count": 9,
     "metadata": {},
     "output_type": "execute_result"
    }
   ],
   "source": [
    "schema_str = connection.get_contact_log(306)\n",
    "XMLSchema(schema_str).search(**check_kwarg)"
   ]
  },
  {
   "cell_type": "code",
   "execution_count": 13,
   "metadata": {},
   "outputs": [
    {
     "data": {
      "text/plain": [
       "True"
      ]
     },
     "execution_count": 13,
     "metadata": {},
     "output_type": "execute_result"
    }
   ],
   "source": [
    "'5' > '10'"
   ]
  },
  {
   "cell_type": "code",
   "execution_count": null,
   "metadata": {
    "collapsed": true
   },
   "outputs": [],
   "source": []
  }
 ],
 "metadata": {
  "kernelspec": {
   "display_name": "Python (echo)",
   "language": "python",
   "name": "echo"
  },
  "language_info": {
   "codemirror_mode": {
    "name": "ipython",
    "version": 3
   },
   "file_extension": ".py",
   "mimetype": "text/x-python",
   "name": "python",
   "nbconvert_exporter": "python",
   "pygments_lexer": "ipython3",
   "version": "3.6.2"
  }
 },
 "nbformat": 4,
 "nbformat_minor": 2
}
