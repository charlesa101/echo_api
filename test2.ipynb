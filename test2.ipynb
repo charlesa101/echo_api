{
 "cells": [
  {
   "cell_type": "code",
   "execution_count": 369,
   "metadata": {
    "collapsed": true
   },
   "outputs": [],
   "source": [
    "connection = Connection()"
   ]
  },
  {
   "cell_type": "code",
   "execution_count": 309,
   "metadata": {},
   "outputs": [
    {
     "name": "stdout",
     "output_type": "stream",
     "text": [
      "1c71baf2-4edd-4391-8cd7-e40c0b38564d\n"
     ]
    }
   ],
   "source": [
    "print(connection._get_physician_guid(305))"
   ]
  },
  {
   "cell_type": "markdown",
   "metadata": {},
   "source": [
    "Trying to get a CallLog entry from a Guid:"
   ]
  },
  {
   "cell_type": "code",
   "execution_count": 372,
   "metadata": {},
   "outputs": [
    {
     "data": {
      "text/plain": [
       "\"Error|SymedData::LoadData - Procedure or function 'ContactLog_Select' expects parameter '@EntityGuid', which was not supplied.\""
      ]
     },
     "execution_count": 372,
     "metadata": {},
     "output_type": "execute_result"
    }
   ],
   "source": [
    "connection.client.service.API_GetData('aaef28e7248e408c8df9e4af6cd079c5', \n",
    "                                      'CallLog', \n",
    "                                      'Symed', \n",
    "                                      '@PhysicianID|305|int')"
   ]
  },
  {
   "cell_type": "code",
   "execution_count": 304,
   "metadata": {},
   "outputs": [
    {
     "data": {
      "text/plain": [
       "'Error|SymedData::LoadData - Failed to convert parameter value from a Int32 to a Guid.'"
      ]
     },
     "execution_count": 304,
     "metadata": {},
     "output_type": "execute_result"
    }
   ],
   "source": [
    "# original UUID from PhysicianDetail\n",
    "connection.client.service.API_GetData('8596a3ee624449988ff773841c874607', \n",
    "                                      'CallLog', \n",
    "                                      'Symed', \n",
    "                                      '@EntityGuid|1c71baf2-4edd-4391-8cd7-e40c0b38564d|Guid')"
   ]
  },
  {
   "cell_type": "code",
   "execution_count": 316,
   "metadata": {},
   "outputs": [
    {
     "data": {
      "text/plain": [
       "'Error|SymedData::LoadData - Failed to convert parameter value from a Int32 to a Guid.'"
      ]
     },
     "execution_count": 316,
     "metadata": {},
     "output_type": "execute_result"
    }
   ],
   "source": [
    "# hex representation of original UUID from PhysicianDetail\n",
    "connection.client.service.API_GetData('98c6fe02496c4bd1a31d55bab681884c', \n",
    "                                      'CallLog', \n",
    "                                      'Symed', \n",
    "                                      '@EntityGuid|1c71baf24edd43918cd7e40c0b38564d|Guid')"
   ]
  },
  {
   "cell_type": "code",
   "execution_count": 315,
   "metadata": {},
   "outputs": [
    {
     "data": {
      "text/plain": [
       "'Error|SymedData::LoadData - Failed to convert parameter value from a Int32 to a Guid.'"
      ]
     },
     "execution_count": 315,
     "metadata": {},
     "output_type": "execute_result"
    }
   ],
   "source": [
    "# 128 bit representation of original UUID from PhysicianDetail\n",
    "connection.client.service.API_GetData('98c6fe02496c4bd1a31d55bab681884c', \n",
    "                                      'CallLog', \n",
    "                                      'Symed', \n",
    "                                      '@EntityGuid|37808905152801010081679917987365672525|Guid')"
   ]
  },
  {
   "cell_type": "code",
   "execution_count": 346,
   "metadata": {},
   "outputs": [
    {
     "data": {
      "text/plain": [
       "'Error|SymedData::LoadData - Failed to convert parameter value from a Int32 to a Guid.'"
      ]
     },
     "execution_count": 346,
     "metadata": {},
     "output_type": "execute_result"
    }
   ],
   "source": [
    "# 32 bit representation of time_low portion of original UUID from PhysicianDetail\n",
    "connection.client.service.API_GetData('577e64cf85d54e289c9cccb92253bf38', \n",
    "                                      'CallLog', \n",
    "                                      'Symed', \n",
    "                                      '@EntityGuid|477215474|Guid')"
   ]
  },
  {
   "cell_type": "code",
   "execution_count": 373,
   "metadata": {},
   "outputs": [
    {
     "data": {
      "text/plain": [
       "'Error|SymedData::LoadData - Failed to convert parameter value from a Int32 to a Guid.'"
      ]
     },
     "execution_count": 373,
     "metadata": {},
     "output_type": "execute_result"
    }
   ],
   "source": [
    "connection.client.service.API_GetData('8596a3ee624449988ff773841c874607', \n",
    "                                      'CallLog', \n",
    "                                      'Symed', \n",
    "                                      '@EntityGuid|\"1c71baf2-4edd-4391-8cd7-e40c0b38564d\"|Guid')"
   ]
  },
  {
   "cell_type": "code",
   "execution_count": 363,
   "metadata": {},
   "outputs": [
    {
     "data": {
      "text/plain": [
       "'Error|SymedData::LoadData - Failed to convert parameter value from a Int32 to a Guid.'"
      ]
     },
     "execution_count": 363,
     "metadata": {},
     "output_type": "execute_result"
    }
   ],
   "source": [
    "connection.client.service.API_GetData('d2e1dd8d9a08462d9853af93c2bbb57f', \n",
    "                                      'CallLog', \n",
    "                                      'Symed', \n",
    "                                      '@EntityGuid|\"1c71baf24edd43918cd7e40c0b38564d\"|Guid')"
   ]
  }
 ],
 "metadata": {
  "kernelspec": {
   "display_name": "Python 3",
   "language": "python",
   "name": "python3"
  },
  "language_info": {
   "codemirror_mode": {
    "name": "ipython",
    "version": 3
   },
   "file_extension": ".py",
   "mimetype": "text/x-python",
   "name": "python",
   "nbconvert_exporter": "python",
   "pygments_lexer": "ipython3",
   "version": "3.6.2"
  }
 },
 "nbformat": 4,
 "nbformat_minor": 2
}
