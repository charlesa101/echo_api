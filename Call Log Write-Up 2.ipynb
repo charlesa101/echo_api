{
 "cells": [
  {
   "cell_type": "raw",
   "metadata": {},
   "source": [
    "<script>\n",
    "  function code_toggle() {\n",
    "    if (code_shown){\n",
    "      $('div.input').hide('500');\n",
    "      $('#toggleButton').val('Show Code')\n",
    "    } else {\n",
    "      $('div.input').show('500');\n",
    "      $('#toggleButton').val('Hide Code')\n",
    "    }\n",
    "    code_shown = !code_shown\n",
    "  }\n",
    "\n",
    "  $( document ).ready(function(){\n",
    "    code_shown=false;\n",
    "    $('div.input').hide()\n",
    "  });\n",
    "</script>\n",
    "<form action=\"javascript:code_toggle()\"><input type=\"submit\" id=\"toggleButton\" value=\"Show Code\"></form>"
   ]
  },
  {
   "cell_type": "code",
   "execution_count": 1,
   "metadata": {
    "collapsed": true
   },
   "outputs": [],
   "source": [
    "import os\n",
    "import unittest, moment\n",
    "os.environ['INTERFACE_CONF_FILE'] = '/home/jjorissen/interface_secrets.conf'\n",
    "from echo_api.api import EchoConnection\n",
    "from xmlmanip import XMLSchema, print_xml"
   ]
  },
  {
   "cell_type": "markdown",
   "metadata": {},
   "source": [
    "### I am attempting to add a Contact Log to a Physician (Part 2). "
   ]
  },
  {
   "cell_type": "code",
   "execution_count": 65,
   "metadata": {
    "collapsed": true
   },
   "outputs": [],
   "source": [
    "connection = EchoConnection()"
   ]
  },
  {
   "cell_type": "markdown",
   "metadata": {},
   "source": [
    "#### First, let's view the latest log entry."
   ]
  },
  {
   "cell_type": "code",
   "execution_count": 66,
   "metadata": {},
   "outputs": [
    {
     "data": {
      "text/plain": [
       "SchemaInnerDict([('CallID', '10'),\n",
       "                 ('ContactDate', '2017-09-18T16:41:00'),\n",
       "                 ('FollowUpCompleted', 'false'),\n",
       "                 ('ContactLogTypeID', '5'),\n",
       "                 ('ContactID', '0'),\n",
       "                 ('EnteredBy', 'Kathleen Reynolds'),\n",
       "                 ('notes', 'I am a new minimal note!'),\n",
       "                 ('Subject', 'Not a whole lot'),\n",
       "                 ('EntityGuid', '60e04aba-f548-41c6-9194-4c5dde6d4359'),\n",
       "                 ('TimeEdited', 'AAAAAAAEGO4=')])"
      ]
     },
     "execution_count": 66,
     "metadata": {},
     "output_type": "execute_result"
    }
   ],
   "source": [
    "connection.show_latest_contact_log()"
   ]
  },
  {
   "cell_type": "markdown",
   "metadata": {},
   "source": [
    "#### Now let's add one."
   ]
  },
  {
   "cell_type": "code",
   "execution_count": 67,
   "metadata": {
    "collapsed": true,
    "scrolled": false
   },
   "outputs": [],
   "source": [
    "schema_str, updated_schema1, args = connection.add_contact_log_entry(307, \n",
    "                                                                    Subject=\"New Subject\", \n",
    "                                                                    Notes=\"New Notes\")"
   ]
  },
  {
   "cell_type": "code",
   "execution_count": 68,
   "metadata": {},
   "outputs": [
    {
     "name": "stdout",
     "output_type": "stream",
     "text": [
      "connection.API_UpdateData('acac9f0750e342299d4c8d7654ec8743', 'Locations', 'Provider', 'CallLog', 'Symed', '@EntityGuid|60e04aba-f548-41c6-9194-4c5dde6d4359|guid', '<updated_schema1>')\n"
     ]
    }
   ],
   "source": [
    "print(f'connection.API_UpdateData{(connection.session_id, *args, \"<updated_schema1>\")}')"
   ]
  },
  {
   "cell_type": "markdown",
   "metadata": {},
   "source": [
    "#### Here's what that latest one looks like: "
   ]
  },
  {
   "cell_type": "code",
   "execution_count": 69,
   "metadata": {},
   "outputs": [
    {
     "data": {
      "text/plain": [
       "SchemaInnerDict([('CallID', '25'),\n",
       "                 ('ContactDate', '2017-09-19T19:40:54'),\n",
       "                 ('EnteredBy', 'Back-end API User'),\n",
       "                 ('notes', 'New Notes'),\n",
       "                 ('Subject', 'New Subject'),\n",
       "                 ('EntityGuid', '60e04aba-f548-41c6-9194-4c5dde6d4359'),\n",
       "                 ('TimeEdited', 'AAAAAAAEHx4=')])"
      ]
     },
     "execution_count": 69,
     "metadata": {},
     "output_type": "execute_result"
    }
   ],
   "source": [
    "connection.show_latest_contact_log()"
   ]
  },
  {
   "cell_type": "markdown",
   "metadata": {},
   "source": [
    "#### Great. Let's try another physician. I'll check to make sure they exist and have a contact log."
   ]
  },
  {
   "cell_type": "code",
   "execution_count": 70,
   "metadata": {},
   "outputs": [
    {
     "data": {
      "text/plain": [
       "[SchemaInnerDict([('SECURITY_CONTEXT', None),\n",
       "                  ('CallID', '4'),\n",
       "                  ('ContactDate', '2017-09-06T00:00:00'),\n",
       "                  ('FollowUpCompleted', 'false'),\n",
       "                  ('ContactLogTypeID', '5'),\n",
       "                  ('ContactID', '0'),\n",
       "                  ('UserDisplayName', 'Kathleen Reynolds'),\n",
       "                  ('ContactName', 'Test Test'),\n",
       "                  ('EntityGuid', 'e43361b7-59f3-4e1f-92c1-1faa1f840b0f'),\n",
       "                  ('Subject', 'Simple Contact Log')]),\n",
       " SchemaInnerDict([('CallID', '4'),\n",
       "                  ('TimeEdited', 'AAAAAAAD/DY='),\n",
       "                  ('Subject', 'Simple Contact Log')]),\n",
       " SchemaInnerDict([('SECURITY_CONTEXT', None),\n",
       "                  ('CallID', '5'),\n",
       "                  ('ContactDate', '2017-09-06T00:00:00'),\n",
       "                  ('FollowUpDate', '2017-09-13T00:00:00'),\n",
       "                  ('FollowUpCompleted', 'false'),\n",
       "                  ('ContactLogTypeID', '5'),\n",
       "                  ('Notes',\n",
       "                   'This is a Test.\\n\\nWe need to ensure text items come in from Bullhorn here.\\n\\nKathleen'),\n",
       "                  ('ContactID', '1'),\n",
       "                  ('UserDisplayName', 'Kathleen Reynolds'),\n",
       "                  ('Attachment',\n",
       "                   'guid://278fcf4f-57e1-45ee-b2c5-2c0419de19e1'),\n",
       "                  ('EntityGuid', 'e43361b7-59f3-4e1f-92c1-1faa1f840b0f'),\n",
       "                  ('Subject', 'Complex')]),\n",
       " SchemaInnerDict([('CallID', '5'),\n",
       "                  ('TimeEdited', 'AAAAAAAD/D4='),\n",
       "                  ('Subject', 'Complex')])]"
      ]
     },
     "execution_count": 70,
     "metadata": {},
     "output_type": "execute_result"
    }
   ],
   "source": [
    "connection.show_physician_contact_log(306)"
   ]
  },
  {
   "cell_type": "markdown",
   "metadata": {},
   "source": [
    "#### Adding a new one..."
   ]
  },
  {
   "cell_type": "code",
   "execution_count": 71,
   "metadata": {},
   "outputs": [
    {
     "name": "stdout",
     "output_type": "stream",
     "text": [
      "Error: Error:SymedData.UpdateDataSpecified cast is not valid.\n"
     ]
    }
   ],
   "source": [
    "schema_str, updated_schema, args = connection.add_contact_log_entry(306, \n",
    "                                                                    Subject=\"New Subject\", \n",
    "                                                                    Notes=\"New Notes\")\n",
    "print(schema_str)"
   ]
  },
  {
   "cell_type": "code",
   "execution_count": 72,
   "metadata": {},
   "outputs": [
    {
     "name": "stdout",
     "output_type": "stream",
     "text": [
      "connection.API_UpdateData('acac9f0750e342299d4c8d7654ec8743', 'Locations', 'Provider', 'CallLog', 'Symed', '@EntityGuid|e43361b7-59f3-4e1f-92c1-1faa1f840b0f|guid', '<updated_schema>')\n"
     ]
    }
   ],
   "source": [
    "print(f'connection.API_UpdateData{(connection.session_id, *args, \"<updated_schema>\")}')"
   ]
  },
  {
   "cell_type": "markdown",
   "metadata": {},
   "source": [
    "Below is the `<updated_schema>` that is failing to update the log, and [below that](#working) is the one that works correctly. What am I doing wrong?"
   ]
  },
  {
   "cell_type": "markdown",
   "metadata": {},
   "source": [
    "#### this one does not update correctly"
   ]
  },
  {
   "cell_type": "code",
   "execution_count": 76,
   "metadata": {
    "scrolled": false
   },
   "outputs": [
    {
     "name": "stdout",
     "output_type": "stream",
     "text": [
      "<?xml version=\"1.0\" encoding=\"utf-8\"?>\n",
      "<SchemaandData xmlns:ns1=\"urn:schemas-microsoft-com:xml-msdata\" xmlns:xs=\"http://www.w3.org/2001/XMLSchema\">\n",
      " <xs:schema id=\"NewDataSet\">\n",
      "  <xs:element name=\"NewDataSet\" ns1:IsDataSet=\"true\" ns1:UseCurrentLocale=\"true\">\n",
      "   <xs:complexType>\n",
      "    <xs:choice maxOccurs=\"unbounded\" minOccurs=\"0\">\n",
      "     <xs:element name=\"Table\">\n",
      "      <xs:complexType>\n",
      "       <xs:sequence>\n",
      "        <xs:element minOccurs=\"0\" name=\"SECURITY_CONTEXT\" type=\"xs:string\"/>\n",
      "        <xs:element minOccurs=\"0\" name=\"CallID\" type=\"xs:int\"/>\n",
      "        <xs:element minOccurs=\"0\" name=\"ContactDate\" ns1:DateTimeMode=\"Unspecified\" type=\"xs:dateTime\"/>\n",
      "        <xs:element minOccurs=\"0\" name=\"FollowUpDate\" ns1:DateTimeMode=\"Unspecified\" type=\"xs:dateTime\"/>\n",
      "        <xs:element minOccurs=\"0\" name=\"FollowUpCompleted\" type=\"xs:boolean\"/>\n",
      "        <xs:element minOccurs=\"0\" name=\"ContactLogTypeID\" type=\"xs:int\"/>\n",
      "        <xs:element minOccurs=\"0\" name=\"Notes\" type=\"xs:string\"/>\n",
      "        <xs:element minOccurs=\"0\" name=\"ContactID\" type=\"xs:int\"/>\n",
      "        <xs:element minOccurs=\"0\" name=\"Notified\" type=\"xs:int\"/>\n",
      "        <xs:element minOccurs=\"0\" name=\"UserDisplayName\" type=\"xs:string\"/>\n",
      "        <xs:element minOccurs=\"0\" name=\"EMail\" type=\"xs:string\"/>\n",
      "        <xs:element minOccurs=\"0\" name=\"Phone\" type=\"xs:string\"/>\n",
      "        <xs:element minOccurs=\"0\" name=\"ContactName\" type=\"xs:string\"/>\n",
      "        <xs:element minOccurs=\"0\" name=\"Attachment\" type=\"xs:string\"/>\n",
      "        <xs:element minOccurs=\"0\" name=\"TrackingGuid\" ns1:DataType=\"System.Guid, mscorlib, Version=4.0.0.0, Culture=neutral, PublicKeyToken=b77a5c561934e089\" type=\"xs:string\"/>\n",
      "        <xs:element minOccurs=\"0\" name=\"EntityGuid\" ns1:DataType=\"System.Guid, mscorlib, Version=4.0.0.0, Culture=neutral, PublicKeyToken=b77a5c561934e089\" type=\"xs:string\"/>\n",
      "        <xs:element minOccurs=\"0\" name=\"Subject\" type=\"xs:string\"/>\n",
      "        <xs:element minOccurs=\"0\" name=\"grid_sort\" type=\"xs:string\"/>\n",
      "       </xs:sequence>\n",
      "      </xs:complexType>\n",
      "     </xs:element>\n",
      "     <xs:element name=\"Table1\">\n",
      "      <xs:complexType>\n",
      "       <xs:sequence>\n",
      "        <xs:element minOccurs=\"0\" name=\"CallID\" type=\"xs:int\"/>\n",
      "        <xs:element minOccurs=\"0\" name=\"TimeEdited\" type=\"xs:base64Binary\"/>\n",
      "        <xs:element minOccurs=\"0\" name=\"Subject\" type=\"xs:string\"/>\n",
      "       </xs:sequence>\n",
      "      </xs:complexType>\n",
      "     </xs:element>\n",
      "    </xs:choice>\n",
      "   </xs:complexType>\n",
      "  </xs:element>\n",
      " </xs:schema>\n",
      " <NewDataSet>\n",
      "  <Table>\n",
      "   <SECURITY_CONTEXT/>\n",
      "   <CallID>\n",
      "    4\n",
      "   </CallID>\n",
      "   <ContactDate>\n",
      "    2017-09-06T00:00:00\n",
      "   </ContactDate>\n",
      "   <FollowUpCompleted>\n",
      "    false\n",
      "   </FollowUpCompleted>\n",
      "   <ContactLogTypeID>\n",
      "    5\n",
      "   </ContactLogTypeID>\n",
      "   <ContactID>\n",
      "    0\n",
      "   </ContactID>\n",
      "   <UserDisplayName>\n",
      "    Kathleen Reynolds\n",
      "   </UserDisplayName>\n",
      "   <ContactName>\n",
      "    Test Test\n",
      "   </ContactName>\n",
      "   <EntityGuid>\n",
      "    e43361b7-59f3-4e1f-92c1-1faa1f840b0f\n",
      "   </EntityGuid>\n",
      "   <Subject>\n",
      "    Simple Contact Log\n",
      "   </Subject>\n",
      "  </Table>\n",
      "  <Table>\n",
      "   <SECURITY_CONTEXT/>\n",
      "   <CallID>\n",
      "    5\n",
      "   </CallID>\n",
      "   <ContactDate>\n",
      "    2017-09-06T00:00:00\n",
      "   </ContactDate>\n",
      "   <FollowUpDate>\n",
      "    2017-09-13T00:00:00\n",
      "   </FollowUpDate>\n",
      "   <FollowUpCompleted>\n",
      "    false\n",
      "   </FollowUpCompleted>\n",
      "   <ContactLogTypeID>\n",
      "    5\n",
      "   </ContactLogTypeID>\n",
      "   <Notes>\n",
      "    This is a Test.\n",
      "\n",
      "We need to ensure text items come in from Bullhorn here.\n",
      "\n",
      "Kathleen\n",
      "   </Notes>\n",
      "   <ContactID>\n",
      "    1\n",
      "   </ContactID>\n",
      "   <UserDisplayName>\n",
      "    Kathleen Reynolds\n",
      "   </UserDisplayName>\n",
      "   <Attachment>\n",
      "    guid://278fcf4f-57e1-45ee-b2c5-2c0419de19e1\n",
      "   </Attachment>\n",
      "   <EntityGuid>\n",
      "    e43361b7-59f3-4e1f-92c1-1faa1f840b0f\n",
      "   </EntityGuid>\n",
      "   <Subject>\n",
      "    Complex\n",
      "   </Subject>\n",
      "  </Table>\n",
      "  <Table1>\n",
      "   <CallID>\n",
      "    4\n",
      "   </CallID>\n",
      "   <TimeEdited>\n",
      "    AAAAAAAD/DY=\n",
      "   </TimeEdited>\n",
      "   <Subject>\n",
      "    Simple Contact Log\n",
      "   </Subject>\n",
      "  </Table1>\n",
      "  <Table1>\n",
      "   <CallID>\n",
      "    5\n",
      "   </CallID>\n",
      "   <TimeEdited>\n",
      "    AAAAAAAD/D4=\n",
      "   </TimeEdited>\n",
      "   <Subject>\n",
      "    Complex\n",
      "   </Subject>\n",
      "  </Table1>\n",
      "  <Table>\n",
      "   <Subject>\n",
      "    New Subject\n",
      "   </Subject>\n",
      "   <Notes>\n",
      "    New Notes\n",
      "   </Notes>\n",
      "   <EntityGuid>\n",
      "    e43361b7-59f3-4e1f-92c1-1faa1f840b0f\n",
      "   </EntityGuid>\n",
      "   <TrackingGuid>\n",
      "    00000000-0000-0000-0000-000000000000\n",
      "   </TrackingGuid>\n",
      "   <ContactDate>\n",
      "    2017-09-19T19:40:57\n",
      "   </ContactDate>\n",
      "   <UserDisplayName>\n",
      "    Back-end API User\n",
      "   </UserDisplayName>\n",
      "  </Table>\n",
      " </NewDataSet>\n",
      "</SchemaandData>\n"
     ]
    }
   ],
   "source": [
    "print_xml(updated_schema)"
   ]
  },
  {
   "cell_type": "markdown",
   "metadata": {},
   "source": [
    "<a id=\"working\"></a>"
   ]
  },
  {
   "cell_type": "markdown",
   "metadata": {},
   "source": [
    "#### this one updates like it's supposed to"
   ]
  },
  {
   "cell_type": "code",
   "execution_count": 74,
   "metadata": {
    "scrolled": false
   },
   "outputs": [
    {
     "name": "stdout",
     "output_type": "stream",
     "text": [
      "<?xml version=\"1.0\" encoding=\"utf-8\"?>\n",
      "<SchemaandData xmlns:ns1=\"urn:schemas-microsoft-com:xml-msdata\" xmlns:xs=\"http://www.w3.org/2001/XMLSchema\">\n",
      " <xs:schema id=\"NewDataSet\">\n",
      "  <xs:element name=\"NewDataSet\" ns1:IsDataSet=\"true\" ns1:UseCurrentLocale=\"true\">\n",
      "   <xs:complexType>\n",
      "    <xs:choice maxOccurs=\"unbounded\" minOccurs=\"0\">\n",
      "     <xs:element name=\"Table\">\n",
      "      <xs:complexType>\n",
      "       <xs:sequence>\n",
      "        <xs:element minOccurs=\"0\" name=\"SECURITY_CONTEXT\" type=\"xs:string\"/>\n",
      "        <xs:element minOccurs=\"0\" name=\"CallID\" type=\"xs:int\"/>\n",
      "        <xs:element minOccurs=\"0\" name=\"ContactDate\" ns1:DateTimeMode=\"Unspecified\" type=\"xs:dateTime\"/>\n",
      "        <xs:element minOccurs=\"0\" name=\"FollowUpDate\" ns1:DateTimeMode=\"Unspecified\" type=\"xs:dateTime\"/>\n",
      "        <xs:element minOccurs=\"0\" name=\"FollowUpCompleted\" type=\"xs:boolean\"/>\n",
      "        <xs:element minOccurs=\"0\" name=\"ContactLogTypeID\" type=\"xs:int\"/>\n",
      "        <xs:element minOccurs=\"0\" name=\"Notes\" type=\"xs:string\"/>\n",
      "        <xs:element minOccurs=\"0\" name=\"ContactID\" type=\"xs:int\"/>\n",
      "        <xs:element minOccurs=\"0\" name=\"Notified\" type=\"xs:int\"/>\n",
      "        <xs:element minOccurs=\"0\" name=\"UserDisplayName\" type=\"xs:string\"/>\n",
      "        <xs:element minOccurs=\"0\" name=\"EMail\" type=\"xs:string\"/>\n",
      "        <xs:element minOccurs=\"0\" name=\"Phone\" type=\"xs:string\"/>\n",
      "        <xs:element minOccurs=\"0\" name=\"ContactName\" type=\"xs:string\"/>\n",
      "        <xs:element minOccurs=\"0\" name=\"Attachment\" type=\"xs:string\"/>\n",
      "        <xs:element minOccurs=\"0\" name=\"TrackingGuid\" ns1:DataType=\"System.Guid, mscorlib, Version=4.0.0.0, Culture=neutral, PublicKeyToken=b77a5c561934e089\" type=\"xs:string\"/>\n",
      "        <xs:element minOccurs=\"0\" name=\"EntityGuid\" ns1:DataType=\"System.Guid, mscorlib, Version=4.0.0.0, Culture=neutral, PublicKeyToken=b77a5c561934e089\" type=\"xs:string\"/>\n",
      "        <xs:element minOccurs=\"0\" name=\"Subject\" type=\"xs:string\"/>\n",
      "        <xs:element minOccurs=\"0\" name=\"grid_sort\" type=\"xs:string\"/>\n",
      "       </xs:sequence>\n",
      "      </xs:complexType>\n",
      "     </xs:element>\n",
      "     <xs:element name=\"Table1\">\n",
      "      <xs:complexType>\n",
      "       <xs:sequence>\n",
      "        <xs:element minOccurs=\"0\" name=\"CallID\" type=\"xs:int\"/>\n",
      "        <xs:element minOccurs=\"0\" name=\"TimeEdited\" type=\"xs:base64Binary\"/>\n",
      "        <xs:element minOccurs=\"0\" name=\"Subject\" type=\"xs:string\"/>\n",
      "       </xs:sequence>\n",
      "      </xs:complexType>\n",
      "     </xs:element>\n",
      "    </xs:choice>\n",
      "   </xs:complexType>\n",
      "  </xs:element>\n",
      " </xs:schema>\n",
      " <NewDataSet>\n",
      "  <Table>\n",
      "   <SECURITY_CONTEXT/>\n",
      "   <CallID>\n",
      "    10\n",
      "   </CallID>\n",
      "   <ContactDate>\n",
      "    2017-09-18T16:41:00\n",
      "   </ContactDate>\n",
      "   <FollowUpCompleted>\n",
      "    false\n",
      "   </FollowUpCompleted>\n",
      "   <ContactLogTypeID>\n",
      "    5\n",
      "   </ContactLogTypeID>\n",
      "   <Notes>\n",
      "    I am a new minimal note!\n",
      "   </Notes>\n",
      "   <ContactID>\n",
      "    0\n",
      "   </ContactID>\n",
      "   <UserDisplayName>\n",
      "    Kathleen Reynolds\n",
      "   </UserDisplayName>\n",
      "   <ContactName>\n",
      "    John-Paul Jorissen\n",
      "   </ContactName>\n",
      "   <EntityGuid>\n",
      "    60e04aba-f548-41c6-9194-4c5dde6d4359\n",
      "   </EntityGuid>\n",
      "   <Subject>\n",
      "    Not a whole lot\n",
      "   </Subject>\n",
      "  </Table>\n",
      "  <Table1>\n",
      "   <CallID>\n",
      "    10\n",
      "   </CallID>\n",
      "   <TimeEdited>\n",
      "    AAAAAAAEGO4=\n",
      "   </TimeEdited>\n",
      "   <Subject>\n",
      "    Not a whole lot\n",
      "   </Subject>\n",
      "  </Table1>\n",
      "  <Table>\n",
      "   <Subject>\n",
      "    New Subject\n",
      "   </Subject>\n",
      "   <Notes>\n",
      "    New Notes\n",
      "   </Notes>\n",
      "   <EntityGuid>\n",
      "    60e04aba-f548-41c6-9194-4c5dde6d4359\n",
      "   </EntityGuid>\n",
      "   <TrackingGuid>\n",
      "    00000000-0000-0000-0000-000000000000\n",
      "   </TrackingGuid>\n",
      "   <ContactDate>\n",
      "    2017-09-19T19:40:54\n",
      "   </ContactDate>\n",
      "   <UserDisplayName>\n",
      "    Back-end API User\n",
      "   </UserDisplayName>\n",
      "  </Table>\n",
      " </NewDataSet>\n",
      "</SchemaandData>\n"
     ]
    }
   ],
   "source": [
    "print_xml(updated_schema1)"
   ]
  }
 ],
 "metadata": {
  "kernelspec": {
   "display_name": "Python 3",
   "language": "python",
   "name": "python3"
  },
  "language_info": {
   "codemirror_mode": {
    "name": "ipython",
    "version": 3
   },
   "file_extension": ".py",
   "mimetype": "text/x-python",
   "name": "python",
   "nbconvert_exporter": "python",
   "pygments_lexer": "ipython3",
   "version": "3.6.2"
  }
 },
 "nbformat": 4,
 "nbformat_minor": 2
}
