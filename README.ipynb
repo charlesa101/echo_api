{
 "cells": [
  {
   "cell_type": "markdown",
   "metadata": {},
   "source": [
    "<a id=\"installation\"></a>\n",
    "# Installation"
   ]
  },
  {
   "cell_type": "raw",
   "metadata": {},
   "source": [
    "pip install echo_api"
   ]
  },
  {
   "cell_type": "markdown",
   "metadata": {},
   "source": [
    "<a id=\"configuration\"></a>\n",
    "# Configuration"
   ]
  },
  {
   "cell_type": "markdown",
   "metadata": {},
   "source": [
    "<a id=\"secrets\"></a>\n",
    "## Secrets"
   ]
  },
  {
   "cell_type": "markdown",
   "metadata": {},
   "source": [
    "`echo_api` is configured to take credentials from a file named `echo.conf` that is expected by default in your working directory. `echo.conf` should look like:"
   ]
  },
  {
   "cell_type": "code",
   "execution_count": null,
   "metadata": {
    "collapsed": true
   },
   "outputs": [],
   "source": [
    "[echo]\n",
    "username = UserName\n",
    "password = Password\n",
    "wsdl_location = /path/to/wsdl.xml\n",
    "endpoint = https://cloud.echooneappcloud.com/yourorganizationname/OneAppWebService"
   ]
  },
  {
   "cell_type": "markdown",
   "metadata": {},
   "source": [
    "If you want `echo.conf` to be somewhere other than your project directory, you will need to set it the location using an environment variable."
   ]
  },
  {
   "cell_type": "code",
   "execution_count": null,
   "metadata": {
    "collapsed": true
   },
   "outputs": [],
   "source": [
    "# Linux\n",
    "export INTERFACE_CONF_FILE=/absolute/path/to/conf_file.conf #name doesn't matter\n",
    "\n",
    "# Or set in Python before you import echo_api\n",
    "import os\n",
    "os.environ[\"INTERFACE_CONF_FILE\"] = '/absolute/path/to/conf_file.conf'"
   ]
  },
  {
   "cell_type": "markdown",
   "metadata": {},
   "source": [
    "Note that you must have credentials for a user that has access to the API before you can proceed."
   ]
  },
  {
   "cell_type": "markdown",
   "metadata": {},
   "source": [
    "<a id=\"api_definition\"></a>\n",
    "## SOAP API WSDL Definition"
   ]
  },
  {
   "cell_type": "markdown",
   "metadata": {},
   "source": [
    "Due to the possibility of some configuration issues on Echo's side, you will need to manually inspect the XML describing the API and ensure that the endpoint definition is correct. Copy and paste this into the address bar on your browser (you will need to change it to be your organization):"
   ]
  },
  {
   "cell_type": "markdown",
   "metadata": {},
   "source": [
    "https://cloud.echooneappcloud.com/yourorganization/OneAppWebService.svc?singleWsdl"
   ]
  },
  {
   "cell_type": "markdown",
   "metadata": {},
   "source": [
    "Copy and paste the XML response into an XML file (`wsdl.xml`) in your project directory and scroll all the way to the bottom until you see:"
   ]
  },
  {
   "cell_type": "code",
   "execution_count": null,
   "metadata": {
    "collapsed": true
   },
   "outputs": [],
   "source": [
    "<wsdl:port name=\"BasicHttpBinding_OneAppWebService_SSL\" binding=\"tns:BasicHttpBinding_OneAppWebService_SSL\">\n",
    "    <soap:address location=\"https://eoaapp0.echooneapp.com/YourOrganization/OneAppWebService.svc\"/>\n",
    "    </wsdl:port>\n",
    "</wsdl:service>"
   ]
  },
  {
   "cell_type": "markdown",
   "metadata": {},
   "source": [
    "You will want to change"
   ]
  },
  {
   "cell_type": "code",
   "execution_count": null,
   "metadata": {
    "collapsed": true
   },
   "outputs": [],
   "source": [
    "<soap:address location=\"https://eoaapp0.echooneapp.com/YourOrganization/OneAppWebService.svc\"/>"
   ]
  },
  {
   "cell_type": "markdown",
   "metadata": {},
   "source": [
    "to"
   ]
  },
  {
   "cell_type": "code",
   "execution_count": null,
   "metadata": {
    "collapsed": true
   },
   "outputs": [],
   "source": [
    "<soap:address location=\"https://cloud.echooneappcloud.com/yourorganization/OneAppWebService\"/>"
   ]
  },
  {
   "cell_type": "markdown",
   "metadata": {},
   "source": [
    "Once you've set up your wsdl and secrets files, test your connection. For a secrets file that will remain in your project directory, simply use:"
   ]
  },
  {
   "cell_type": "code",
   "execution_count": 2,
   "metadata": {},
   "outputs": [
    {
     "data": {
      "text/plain": [
       "'61d63ecc7571430a9ead84dfc7f6301d'"
      ]
     },
     "execution_count": 2,
     "metadata": {},
     "output_type": "execute_result"
    }
   ],
   "source": [
    "from echo_api import api\n",
    "# Connection() will log you in if everything is correctly configured.\n",
    "connection = api.BaseConnection()\n",
    "connection.session_id"
   ]
  },
  {
   "cell_type": "markdown",
   "metadata": {},
   "source": [
    "If you see a string like the one above, it means that a connection was successfully established and you've got the hard part done."
   ]
  },
  {
   "cell_type": "code",
   "execution_count": 3,
   "metadata": {},
   "outputs": [
    {
     "data": {
      "text/plain": [
       "'LoggedOut|kathleen.reynolds'"
      ]
     },
     "execution_count": 3,
     "metadata": {},
     "output_type": "execute_result"
    }
   ],
   "source": [
    "connection.API_Logout()"
   ]
  },
  {
   "cell_type": "markdown",
   "metadata": {},
   "source": [
    "<a id=\"usage\"></a>\n",
    "# Usage"
   ]
  },
  {
   "cell_type": "markdown",
   "metadata": {},
   "source": [
    "The `BaseConnection` object has all of the API definitions provided by the WSDL file. The following (paraphrased from API documentation provided by echo's engineering team):"
   ]
  },
  {
   "cell_type": "markdown",
   "metadata": {},
   "source": [
    "`BaseConnection.API_SelectParameters(self, screen_name, name_space='Symed')`\n",
    "   * `session` (string): the session id returned from a login.\n",
    "   * `screen_name` (string): name of the screen.\n",
    "   * `name_space` (string): the name space that the screen belongs to. Currently always “Symed”.\n",
    "   \n",
    "`connection.client.service.API_GeneralQuery(connection.session_id, query, parameters)`\n",
    "   * `session` (string): the session id returned from a login.\n",
    "   * `query` (string): the actual query that will be run.\n",
    "   * `parameters` (string): optional set of parameters in the form @name|value|type, where the name \n",
    "                     is the parameter name, value is the value of the parameter and type specifies \n",
    "                     the type (int, string, Guid, decimal).       \n",
    "           \n",
    "   \n",
    "`connection.client.service.API_GetData(connection.session_id, screenName, nameSpace='Symed', parameters)`\n",
    "   * `session` (string): the session id returned from a login.\n",
    "   * `screenName` (string) name of the screen.\n",
    "   * `nameSpace` (string) the name space that the screen belongs to. Currently always “Symed”.\n",
    "   * `parameters` (string) the parameters for the select statement. It is possible to get the names of the parameters from the API_SelectParameters function, the values will need to be supplied by the programmer.\n",
    "   \n",
    "`connection.client.service.API_UpdateData(connection.session_id, treename, levelname, screenName, nameSpace, parameters, dsXML)`\n",
    "   * `session` (string): the session id returned from a login.\n",
    "   * `treename` (string) the name of tree (for providers, this is “Locations”)\n",
    "   * `levelname` (string) the name of the level (for providers, this is “Providers”)\n",
    "   * `screenName` (string) name of the screen.\n",
    "   * `nameSpace` (string) the name space that the screen belongs to. Currently always “Symed”.\n",
    "   * `parameters` (string) the parameters for the select statement. It is possible to get the names of the parameters from the API_SelectParameters function, the values will need to be supplied by the programmer.\n",
    "   * `dsXML` (string) the XML data containing the updates.\n",
    "   \n",
    "`connection.client.service.API_TreeDataCommand(connection.session_id, treename, levelname, storedproc, operation)`\n",
    "   * `session` (string): the session id returned from a login.\n",
    "   * `treename` (string): the name of tree (for providers, this is “Locations”)\n",
    "   * `levelname` (string): the name of the level (for providers, this is “Providers”)\n",
    "   * `storedproc` (string): the stored procedure that will perform the operation (for adding providers, \n",
    "                     this is PhysicianDetail_Create)\n",
    "   * `operation` (int): an integer that specifies the operation (0, 5 or 6). The currently supported \n",
    "                 operations are\n",
    "        * 0 – execute stored procedure\n",
    "        * 5 – add an item to the tree\n",
    "        * 6 – delete an item from the tree.\n",
    "   * `parameters` (string) set of parameters in the form @name|value|type, where the name is \n",
    "          the parameter name, value is the value of the parameter and type specifies the type \n",
    "          (int, string, guid, decimal). \n",
    "   \n",
    "`connection.client.service.API_CreateNoPenUser(connection.session_id, email, body, subject, returnemail, parameters, securitygroups, sendmail)`\n",
    "\n",
    "   * `session` (string): the session id returned from a login.\n",
    "   * `email` (string) the email address, this will also be the security login.\n",
    "   * `body` (string) body of the email (usually a string built up of other information, like name, email and password.\n",
    "   * `subject` (string) subject of the email.\n",
    "   * `returnemail` (string) the return email address for the email.\n",
    "   * `password` (string) the password for the new user (not the API user password).\n",
    "   * `parameters` (string) the parameters for the provider to add. \n",
    "   * `securitygroups` (string) contains a list of security groups, separated by vertical bars “|”.\n",
    "   * `sendmail` (bool) do we send the registration mail?"
   ]
  },
  {
   "cell_type": "code",
   "execution_count": null,
   "metadata": {
    "collapsed": true
   },
   "outputs": [],
   "source": []
  }
 ],
 "metadata": {
  "kernelspec": {
   "display_name": "Python 3",
   "language": "python",
   "name": "python3"
  },
  "language_info": {
   "codemirror_mode": {
    "name": "ipython",
    "version": 3
   },
   "file_extension": ".py",
   "mimetype": "text/x-python",
   "name": "python",
   "nbconvert_exporter": "python",
   "pygments_lexer": "ipython3",
   "version": "3.6.2"
  }
 },
 "nbformat": 4,
 "nbformat_minor": 2
}
