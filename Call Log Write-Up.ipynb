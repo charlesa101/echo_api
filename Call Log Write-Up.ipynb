{
 "cells": [
  {
   "cell_type": "code",
   "execution_count": 3,
   "metadata": {},
   "outputs": [],
   "source": [
    "import os, moment\n",
    "os.environ['ECHO_SECRETS_LOCATION'] = '/home/jjorissen/echo_secrets.conf'\n",
    "from echo_api import Connection\n",
    "connection = Connection()"
   ]
  },
  {
   "cell_type": "markdown",
   "metadata": {},
   "source": [
    "### I am attempting to add a Contact Log to a Physician. \n",
    "\n",
    "From the API documentation I know the following about ContactLog:\n",
    "\n",
    "| Screen Name        | Caption           | Database Table  | Reference | Update|\n",
    "|-------------|--------------|--------------|---------|\n",
    "|CallLog|Contact Log|ContactLog|PhysicianID|AUD|"
   ]
  },
  {
   "cell_type": "markdown",
   "metadata": {},
   "source": [
    "According to the Documenation, AUD means that Adding, Updating, and Deleting is supported. Since 'T' is not in the update column, I believe that these entries are created using `API_UpdateData` like the [`EditPhysicianMedicalLicenses`](#EditPhysicianMedicalLicenses) function in the example API."
   ]
  },
  {
   "cell_type": "markdown",
   "metadata": {},
   "source": [
    "`connection.client.service.API_UpdateData(connection.session_id, treename, levelname, screenName, nameSpace, parameters, dsXML)`\n",
    "   * `session` (string): the session id returned from a login.\n",
    "   * `treename` (string) the name of tree (for providers, this is “Locations”)\n",
    "   * `levelname` (string) the name of the level (for providers, this is “Providers”)\n",
    "   * `screenName` (string) name of the screen.\n",
    "   * `nameSpace` (string) the name space that the screen belongs to. Currently always “Symed”.\n",
    "   * `parameters` (string) the parameters for the select statement. It is possible to get the names of the parameters from the API_SelectParameters function, the values will need to be supplied by the programmer.\n",
    "   * `dsXML` (string) the XML data containing the updates."
   ]
  },
  {
   "cell_type": "markdown",
   "metadata": {},
   "source": [
    "From the above I know what `session`, `screenname`, and `nameSpace` should be, and I think I know what `treename`, `parameters`, and `dsXML` should be. I can only guess that `levelname` must be `Providers`, since the only thing I know about `levelnames` is shown above. So with this information in mind I tried the following:"
   ]
  },
  {
   "cell_type": "markdown",
   "metadata": {
    "collapsed": true
   },
   "source": [
    "I created a wrapper function called `add_contact_log_entry` to add a contact log entry to a Physician by ID. Each function call prints the relevant portion of the `dsXML` parameter (the actual schema contains the data definitions but the excerpt printed only contains what I'm trying to pass to the update. An example of the full schema can be found at the bottom of the document)."
   ]
  },
  {
   "cell_type": "markdown",
   "metadata": {},
   "source": [
    "These are the examples I have of contact logs:"
   ]
  },
  {
   "cell_type": "code",
   "execution_count": 5,
   "metadata": {},
   "outputs": [
    {
     "data": {
      "text/plain": [
       "[SchemaInnerDict([('SECURITY_CONTEXT', None),\n",
       "                  ('CallID', '4'),\n",
       "                  ('ContactDate', '2017-09-06T00:00:00'),\n",
       "                  ('FollowUpCompleted', 'false'),\n",
       "                  ('ContactLogTypeID', '5'),\n",
       "                  ('ContactID', '0'),\n",
       "                  ('UserDisplayName', 'Kathleen Reynolds'),\n",
       "                  ('ContactName', 'Test Test'),\n",
       "                  ('EntityGuid', 'e43361b7-59f3-4e1f-92c1-1faa1f840b0f'),\n",
       "                  ('Subject', 'Simple Contact Log')]),\n",
       " SchemaInnerDict([('CallID', '4'),\n",
       "                  ('TimeEdited', 'AAAAAAAD/DY='),\n",
       "                  ('Subject', 'Simple Contact Log')]),\n",
       " SchemaInnerDict([('SECURITY_CONTEXT', None),\n",
       "                  ('CallID', '5'),\n",
       "                  ('ContactDate', '2017-09-06T00:00:00'),\n",
       "                  ('FollowUpDate', '2017-09-13T00:00:00'),\n",
       "                  ('FollowUpCompleted', 'false'),\n",
       "                  ('ContactLogTypeID', '5'),\n",
       "                  ('Notes',\n",
       "                   'This is a Test.\\n\\nWe need to ensure text items come in from Bullhorn here.\\n\\nKathleen'),\n",
       "                  ('ContactID', '1'),\n",
       "                  ('UserDisplayName', 'Kathleen Reynolds'),\n",
       "                  ('ContactName', 'Mr Mcdreamy'),\n",
       "                  ('Attachment',\n",
       "                   'guid://278fcf4f-57e1-45ee-b2c5-2c0419de19e1'),\n",
       "                  ('EntityGuid', 'e43361b7-59f3-4e1f-92c1-1faa1f840b0f'),\n",
       "                  ('Subject', 'Complex')]),\n",
       " SchemaInnerDict([('CallID', '5'),\n",
       "                  ('TimeEdited', 'AAAAAAAD/D4='),\n",
       "                  ('Subject', 'Complex')])]"
      ]
     },
     "execution_count": 5,
     "metadata": {},
     "output_type": "execute_result"
    }
   ],
   "source": [
    "connection.show_physician_contact_log(306, show_all=True)"
   ]
  },
  {
   "cell_type": "markdown",
   "metadata": {},
   "source": [
    "## So, based on the above I have tried:\n",
    "\n",
    "### 1"
   ]
  },
  {
   "cell_type": "markdown",
   "metadata": {},
   "source": [
    "Below is the equivalent to `API_UpdateData(session, 'Locations', 'Provider', 'CallLog', 'Symed', '@EntityGuid|60e04aba-f548-41c6-9194-4c5dde6d4359|guid', updated_schema1)`\n",
    "\n",
    "Full [updated_schema1](#updated_schema1) at bottom of document."
   ]
  },
  {
   "cell_type": "code",
   "execution_count": 6,
   "metadata": {},
   "outputs": [
    {
     "name": "stdout",
     "output_type": "stream",
     "text": [
      "<NewDataSet>\n",
      "   <Table>\n",
      "     <Notes>I am a new minimal note!</Notes>\n",
      "    </Table>\n",
      "  </NewDataSet>\n",
      "\n"
     ]
    },
    {
     "data": {
      "text/plain": [
       "'Error: Error:SymedData.UpdateDataSpecified cast is not valid.'"
      ]
     },
     "execution_count": 6,
     "metadata": {},
     "output_type": "execute_result"
    }
   ],
   "source": [
    "connection.add_contact_log_entry(307, Notes=\"I am a new minimal note!\")"
   ]
  },
  {
   "cell_type": "markdown",
   "metadata": {},
   "source": [
    "### 2"
   ]
  },
  {
   "cell_type": "markdown",
   "metadata": {},
   "source": [
    "Below is the equivalent to `API_UpdateData(session, 'Locations', 'Provider', 'CallLog', 'Symed', '@EntityGuid|60e04aba-f548-41c6-9194-4c5dde6d4359|guid', updated_schema2)`\n",
    "\n",
    "Full [updated_schema2](#updated_schema2) at bottom of document."
   ]
  },
  {
   "cell_type": "code",
   "execution_count": 7,
   "metadata": {},
   "outputs": [
    {
     "name": "stdout",
     "output_type": "stream",
     "text": [
      "<NewDataSet>\n",
      "   <Table>\n",
      "     <Notes>I am a new minimal note!</Notes>\n",
      "      <UserDisplayName>Kathleen Reynolds</UserDisplayName>\n",
      "      <ContactName>JP</ContactName>\n",
      "      <Subject>Not a whole lot</Subject>\n",
      "      <ContactLogTypeID>5</ContactLogTypeID>\n",
      "    </Table>\n",
      "  </NewDataSet>\n",
      "\n"
     ]
    },
    {
     "data": {
      "text/plain": [
       "'Error: Error:SymedData.UpdateDataSpecified cast is not valid.'"
      ]
     },
     "execution_count": 7,
     "metadata": {},
     "output_type": "execute_result"
    }
   ],
   "source": [
    "connection.add_contact_log_entry(307, Notes=\"I am a new minimal note!\",\n",
    "                                 UserDisplayName=\"Kathleen Reynolds\", ContactName=\"JP\", \n",
    "                                 Subject=\"Not a whole lot\",\n",
    "                                 ContactLogTypeID=5)"
   ]
  },
  {
   "cell_type": "markdown",
   "metadata": {},
   "source": [
    "### 3"
   ]
  },
  {
   "cell_type": "markdown",
   "metadata": {},
   "source": [
    "Below is the equivalent to `API_UpdateData(session, 'Locations', 'Provider', 'CallLog', 'Symed', '@EntityGuid|60e04aba-f548-41c6-9194-4c5dde6d4359|guid', updated_schema3)`\n",
    "\n",
    "Full [updated_schema3](#updated_schema3) at bottom of document."
   ]
  },
  {
   "cell_type": "code",
   "execution_count": 4,
   "metadata": {},
   "outputs": [
    {
     "name": "stdout",
     "output_type": "stream",
     "text": [
      "<NewDataSet>\n",
      "   <Table>\n",
      "     <CallID>6</CallID>\n",
      "      <Notes>I am a new minimal note!</Notes>\n",
      "      <ContactID>0</ContactID>\n",
      "      <UserDisplayName>Kathleen Reynolds</UserDisplayName>\n",
      "      <ContactName>JP</ContactName>\n",
      "      <Subject>Not a whole lot</Subject>\n",
      "      <ContactDate>2017-09-06T18:54:37</ContactDate>\n",
      "      <ContactLogTypeID>5</ContactLogTypeID>\n",
      "    </Table>\n",
      "  </NewDataSet>\n",
      "\n"
     ]
    },
    {
     "data": {
      "text/plain": [
       "'Error: Error:SymedData.UpdateDataSpecified cast is not valid.'"
      ]
     },
     "execution_count": 4,
     "metadata": {},
     "output_type": "execute_result"
    }
   ],
   "source": [
    "connection.add_contact_log_entry(307, CallID=6, Notes=\"I am a new minimal note!\", ContactID=0, \n",
    "                                 UserDisplayName=\"Kathleen Reynolds\", ContactName=\"JP\", \n",
    "                                 Subject=\"Not a whole lot\",\n",
    "                                 ContactDate=moment.utcnow().strftime(\"%Y-%m-%dT%H:%M:%S\"),\n",
    "                                 ContactLogTypeID=5)"
   ]
  },
  {
   "cell_type": "markdown",
   "metadata": {},
   "source": [
    "I've tried several other configurations but I think this is enough for demonstration. I don't know what else to try."
   ]
  },
  {
   "cell_type": "markdown",
   "metadata": {},
   "source": [
    "# Resources"
   ]
  },
  {
   "cell_type": "markdown",
   "metadata": {},
   "source": [
    "## EditPhysicianMedicalLicenses\n",
    "<a id='EditPhysicianMedicalLicenses'></a>"
   ]
  },
  {
   "cell_type": "code",
   "execution_count": null,
   "metadata": {
    "collapsed": true
   },
   "outputs": [],
   "source": [
    " public string EditPhysicianMedicalLicenses(string physicianid)\n",
    "{\n",
    "    string result = \"\";\n",
    "    try\n",
    "    {\n",
    "        string parms = \"@PhysicianID|\" + physicianid + \"|int\";\n",
    "\n",
    "        //we get the data here\n",
    "        result = service.API_GetData(session, \"MedicalLicenses\", \"Symed\", parms);\n",
    "\n",
    "        //********** start of modifications ******************\n",
    "        DataSet dataSet = new DataSet();\n",
    "        dataSet.Locale = CultureInfo.InvariantCulture;\n",
    "        using (StringReader stringReader = new StringReader(result))\n",
    "        {\n",
    "            dataSet.ReadXml(stringReader, XmlReadMode.ReadSchema);\n",
    "        }\n",
    "\n",
    "        dataSet.AcceptChanges();\n",
    "\n",
    "        DataTable dt = dataSet.Tables[0];\n",
    "        if (dt.Rows.Count > 0)\n",
    "        {\n",
    "            //we'll edit the first one\n",
    "            DataRow dr = dt.Rows[0];\n",
    "            dr[\"LicenseNumber\"] = \"API123\";\n",
    "            dr[\"LicenseStatus\"] = \"Edited by API\";\n",
    "        }\n",
    "        if (dt.Rows.Count > 1)\n",
    "        {\n",
    "            //we'll delete the second one\n",
    "            DataRow dr = dt.Rows[1];\n",
    "            dr.Delete();\n",
    "        }\n",
    "        DataRow drn = dt.NewRow();\n",
    "        //have to set the foriegn key when adding rows\n",
    "        drn[\"PhysicianID\"] = Convert.ToInt32(physicianid);\n",
    "        drn[\"LicenseNumber\"] = \"API1\";\n",
    "        drn[\"LicenseStatus\"] = \"Added by API\";\n",
    "        dt.Rows.Add(drn);\n",
    "\n",
    "        drn = dt.NewRow();\n",
    "        //have to set the foriegn key when adding rows\n",
    "        drn[\"PhysicianID\"] = Convert.ToInt32(physicianid);\n",
    "        drn[\"LicenseNumber\"] = \"API2\";\n",
    "        drn[\"LicenseStatus\"] = \"Added by API\";\n",
    "        dt.Rows.Add(drn);\n",
    "\n",
    "        drn = dt.NewRow();\n",
    "        //have to set the foriegn key when adding rows\n",
    "        drn[\"PhysicianID\"] = Convert.ToInt32(physicianid);\n",
    "        drn[\"LicenseNumber\"] = \"API3\";\n",
    "        drn[\"LicenseStatus\"] = \"Added by API\";\n",
    "        dt.Rows.Add(drn);\n",
    "\n",
    "        dt.AcceptChanges();\n",
    "\n",
    "        XElement serializedDataSet = new XElement(\"SchemaandData\");\n",
    "        serializedDataSet.Add(XElement.Parse(dataSet.GetXmlSchema()));\n",
    "        serializedDataSet.Add(XElement.Parse(dataSet.GetXml()));\n",
    "        //********** end of modifications ******************\n",
    "\n",
    "        //we update the data here\n",
    "        result = service.API_UpdateData(session, \"Locations\", \"Provider\", \"MedicalLicenses\", \"Symed\", parms, serializedDataSet.ToString());\n",
    "\n",
    "        service.API_Logout(session);\n",
    "    }\n",
    "    catch (Exception ex)\n",
    "    {\n",
    "        //getting here means the call failed without getting to the service\n",
    "        result = ex.Message;\n",
    "    }\n",
    "    return result;\n",
    "\n",
    "}"
   ]
  },
  {
   "cell_type": "markdown",
   "metadata": {
    "collapsed": true
   },
   "source": [
    "## updated_schema1 \n",
    "<a id=\"updated_schema1\"></a>"
   ]
  },
  {
   "cell_type": "markdown",
   "metadata": {},
   "source": [
    "    <SchemaandData xmlns:ns1=\"urn:schemas-microsoft-com:xml-msdata\" xmlns:xs=\"http://www.w3.org/2001/XMLSchema\">\n",
    "     <xs:schema id=\"NewDataSet\">\n",
    "       <xs:element name=\"NewDataSet\" ns1:IsDataSet=\"true\" ns1:UseCurrentLocale=\"true\">\n",
    "         <xs:complexType>\n",
    "           <xs:choice maxOccurs=\"unbounded\" minOccurs=\"0\">\n",
    "             <xs:element name=\"Table\">\n",
    "               <xs:complexType>\n",
    "                 <xs:sequence>\n",
    "                   <xs:element minOccurs=\"0\" name=\"SECURITY_CONTEXT\" type=\"xs:string\" />\n",
    "                    <xs:element minOccurs=\"0\" name=\"CallID\" type=\"xs:int\" />\n",
    "                    <xs:element minOccurs=\"0\" name=\"ContactDate\" type=\"xs:dateTime\" ns1:DateTimeMode=\"Unspecified\" />\n",
    "                    <xs:element minOccurs=\"0\" name=\"FollowUpDate\" type=\"xs:dateTime\" ns1:DateTimeMode=\"Unspecified\" />\n",
    "                    <xs:element minOccurs=\"0\" name=\"FollowUpCompleted\" type=\"xs:boolean\" />\n",
    "                    <xs:element minOccurs=\"0\" name=\"ContactLogTypeID\" type=\"xs:int\" />\n",
    "                    <xs:element minOccurs=\"0\" name=\"Notes\" type=\"xs:string\" />\n",
    "                    <xs:element minOccurs=\"0\" name=\"ContactID\" type=\"xs:int\" />\n",
    "                    <xs:element minOccurs=\"0\" name=\"Notified\" type=\"xs:int\" />\n",
    "                    <xs:element minOccurs=\"0\" name=\"UserDisplayName\" type=\"xs:string\" />\n",
    "                    <xs:element minOccurs=\"0\" name=\"EMail\" type=\"xs:string\" />\n",
    "                    <xs:element minOccurs=\"0\" name=\"Phone\" type=\"xs:string\" />\n",
    "                    <xs:element minOccurs=\"0\" name=\"ContactName\" type=\"xs:string\" />\n",
    "                    <xs:element minOccurs=\"0\" name=\"Attachment\" type=\"xs:string\" />\n",
    "                    <xs:element minOccurs=\"0\" name=\"TrackingGuid\" type=\"xs:string\" ns1:DataType=\"System.Guid, mscorlib, Version=4.0.0.0, Culture=neutral, PublicKeyToken=b77a5c561934e089\" />\n",
    "                    <xs:element minOccurs=\"0\" name=\"EntityGuid\" type=\"xs:string\" ns1:DataType=\"System.Guid, mscorlib, Version=4.0.0.0, Culture=neutral, PublicKeyToken=b77a5c561934e089\" />\n",
    "                    <xs:element minOccurs=\"0\" name=\"Subject\" type=\"xs:string\" />\n",
    "                    <xs:element minOccurs=\"0\" name=\"grid_sort\" type=\"xs:string\" />\n",
    "                  </xs:sequence>\n",
    "                </xs:complexType>\n",
    "              </xs:element>\n",
    "              <xs:element name=\"Table1\">\n",
    "               <xs:complexType>\n",
    "                 <xs:sequence>\n",
    "                   <xs:element minOccurs=\"0\" name=\"CallID\" type=\"xs:int\" />\n",
    "                    <xs:element minOccurs=\"0\" name=\"TimeEdited\" type=\"xs:base64Binary\" />\n",
    "                    <xs:element minOccurs=\"0\" name=\"Subject\" type=\"xs:string\" />\n",
    "                  </xs:sequence>\n",
    "                </xs:complexType>\n",
    "              </xs:element>\n",
    "            </xs:choice>\n",
    "          </xs:complexType>\n",
    "        </xs:element>\n",
    "      </xs:schema>\n",
    "      <NewDataSet>\n",
    "       <Table>\n",
    "         <Notes>I am a new minimal note!</Notes>\n",
    "        </Table>\n",
    "      </NewDataSet>\n",
    "    </SchemaandData>"
   ]
  },
  {
   "cell_type": "markdown",
   "metadata": {},
   "source": [
    "## updated_schema2 \n",
    "<a id=\"updated_schema2\"></a>"
   ]
  },
  {
   "cell_type": "markdown",
   "metadata": {},
   "source": [
    "    <SchemaandData xmlns:ns1=\"urn:schemas-microsoft-com:xml-msdata\" xmlns:xs=\"http://www.w3.org/2001/XMLSchema\">\n",
    "     <xs:schema id=\"NewDataSet\">\n",
    "       <xs:element name=\"NewDataSet\" ns1:IsDataSet=\"true\" ns1:UseCurrentLocale=\"true\">\n",
    "         <xs:complexType>\n",
    "           <xs:choice maxOccurs=\"unbounded\" minOccurs=\"0\">\n",
    "             <xs:element name=\"Table\">\n",
    "               <xs:complexType>\n",
    "                 <xs:sequence>\n",
    "                   <xs:element minOccurs=\"0\" name=\"SECURITY_CONTEXT\" type=\"xs:string\" />\n",
    "                    <xs:element minOccurs=\"0\" name=\"CallID\" type=\"xs:int\" />\n",
    "                    <xs:element minOccurs=\"0\" name=\"ContactDate\" type=\"xs:dateTime\" ns1:DateTimeMode=\"Unspecified\" />\n",
    "                    <xs:element minOccurs=\"0\" name=\"FollowUpDate\" type=\"xs:dateTime\" ns1:DateTimeMode=\"Unspecified\" />\n",
    "                    <xs:element minOccurs=\"0\" name=\"FollowUpCompleted\" type=\"xs:boolean\" />\n",
    "                    <xs:element minOccurs=\"0\" name=\"ContactLogTypeID\" type=\"xs:int\" />\n",
    "                    <xs:element minOccurs=\"0\" name=\"Notes\" type=\"xs:string\" />\n",
    "                    <xs:element minOccurs=\"0\" name=\"ContactID\" type=\"xs:int\" />\n",
    "                    <xs:element minOccurs=\"0\" name=\"Notified\" type=\"xs:int\" />\n",
    "                    <xs:element minOccurs=\"0\" name=\"UserDisplayName\" type=\"xs:string\" />\n",
    "                    <xs:element minOccurs=\"0\" name=\"EMail\" type=\"xs:string\" />\n",
    "                    <xs:element minOccurs=\"0\" name=\"Phone\" type=\"xs:string\" />\n",
    "                    <xs:element minOccurs=\"0\" name=\"ContactName\" type=\"xs:string\" />\n",
    "                    <xs:element minOccurs=\"0\" name=\"Attachment\" type=\"xs:string\" />\n",
    "                    <xs:element minOccurs=\"0\" name=\"TrackingGuid\" type=\"xs:string\" ns1:DataType=\"System.Guid, mscorlib, Version=4.0.0.0, Culture=neutral, PublicKeyToken=b77a5c561934e089\" />\n",
    "                    <xs:element minOccurs=\"0\" name=\"EntityGuid\" type=\"xs:string\" ns1:DataType=\"System.Guid, mscorlib, Version=4.0.0.0, Culture=neutral, PublicKeyToken=b77a5c561934e089\" />\n",
    "                    <xs:element minOccurs=\"0\" name=\"Subject\" type=\"xs:string\" />\n",
    "                    <xs:element minOccurs=\"0\" name=\"grid_sort\" type=\"xs:string\" />\n",
    "                  </xs:sequence>\n",
    "                </xs:complexType>\n",
    "              </xs:element>\n",
    "              <xs:element name=\"Table1\">\n",
    "               <xs:complexType>\n",
    "                 <xs:sequence>\n",
    "                   <xs:element minOccurs=\"0\" name=\"CallID\" type=\"xs:int\" />\n",
    "                    <xs:element minOccurs=\"0\" name=\"TimeEdited\" type=\"xs:base64Binary\" />\n",
    "                    <xs:element minOccurs=\"0\" name=\"Subject\" type=\"xs:string\" />\n",
    "                  </xs:sequence>\n",
    "                </xs:complexType>\n",
    "              </xs:element>\n",
    "            </xs:choice>\n",
    "          </xs:complexType>\n",
    "        </xs:element>\n",
    "      </xs:schema>\n",
    "      <NewDataSet>\n",
    "       <Table>\n",
    "         <Notes>I am a new minimal note!</Notes>\n",
    "          <UserDisplayName>Kathleen Reynolds</UserDisplayName>\n",
    "          <ContactName>JP</ContactName>\n",
    "          <Subject>Not a whole lot</Subject>\n",
    "          <ContactLogTypeID>5</ContactLogTypeID>\n",
    "        </Table>\n",
    "      </NewDataSet>\n",
    "    </SchemaandData>"
   ]
  },
  {
   "cell_type": "markdown",
   "metadata": {},
   "source": [
    "## updated_schema3 \n",
    "<a id=\"updated_schema3\"></a>"
   ]
  },
  {
   "cell_type": "markdown",
   "metadata": {},
   "source": [
    "    <SchemaandData xmlns:ns1=\"urn:schemas-microsoft-com:xml-msdata\" xmlns:xs=\"http://www.w3.org/2001/XMLSchema\">\n",
    "     <xs:schema id=\"NewDataSet\">\n",
    "       <xs:element name=\"NewDataSet\" ns1:IsDataSet=\"true\" ns1:UseCurrentLocale=\"true\">\n",
    "         <xs:complexType>\n",
    "           <xs:choice maxOccurs=\"unbounded\" minOccurs=\"0\">\n",
    "             <xs:element name=\"Table\">\n",
    "               <xs:complexType>\n",
    "                 <xs:sequence>\n",
    "                   <xs:element minOccurs=\"0\" name=\"SECURITY_CONTEXT\" type=\"xs:string\" />\n",
    "                    <xs:element minOccurs=\"0\" name=\"CallID\" type=\"xs:int\" />\n",
    "                    <xs:element minOccurs=\"0\" name=\"ContactDate\" type=\"xs:dateTime\" ns1:DateTimeMode=\"Unspecified\" />\n",
    "                    <xs:element minOccurs=\"0\" name=\"FollowUpDate\" type=\"xs:dateTime\" ns1:DateTimeMode=\"Unspecified\" />\n",
    "                    <xs:element minOccurs=\"0\" name=\"FollowUpCompleted\" type=\"xs:boolean\" />\n",
    "                    <xs:element minOccurs=\"0\" name=\"ContactLogTypeID\" type=\"xs:int\" />\n",
    "                    <xs:element minOccurs=\"0\" name=\"Notes\" type=\"xs:string\" />\n",
    "                    <xs:element minOccurs=\"0\" name=\"ContactID\" type=\"xs:int\" />\n",
    "                    <xs:element minOccurs=\"0\" name=\"Notified\" type=\"xs:int\" />\n",
    "                    <xs:element minOccurs=\"0\" name=\"UserDisplayName\" type=\"xs:string\" />\n",
    "                    <xs:element minOccurs=\"0\" name=\"EMail\" type=\"xs:string\" />\n",
    "                    <xs:element minOccurs=\"0\" name=\"Phone\" type=\"xs:string\" />\n",
    "                    <xs:element minOccurs=\"0\" name=\"ContactName\" type=\"xs:string\" />\n",
    "                    <xs:element minOccurs=\"0\" name=\"Attachment\" type=\"xs:string\" />\n",
    "                    <xs:element minOccurs=\"0\" name=\"TrackingGuid\" type=\"xs:string\" ns1:DataType=\"System.Guid, mscorlib, Version=4.0.0.0, Culture=neutral, PublicKeyToken=b77a5c561934e089\" />\n",
    "                    <xs:element minOccurs=\"0\" name=\"EntityGuid\" type=\"xs:string\" ns1:DataType=\"System.Guid, mscorlib, Version=4.0.0.0, Culture=neutral, PublicKeyToken=b77a5c561934e089\" />\n",
    "                    <xs:element minOccurs=\"0\" name=\"Subject\" type=\"xs:string\" />\n",
    "                    <xs:element minOccurs=\"0\" name=\"grid_sort\" type=\"xs:string\" />\n",
    "                  </xs:sequence>\n",
    "                </xs:complexType>\n",
    "              </xs:element>\n",
    "              <xs:element name=\"Table1\">\n",
    "               <xs:complexType>\n",
    "                 <xs:sequence>\n",
    "                   <xs:element minOccurs=\"0\" name=\"CallID\" type=\"xs:int\" />\n",
    "                    <xs:element minOccurs=\"0\" name=\"TimeEdited\" type=\"xs:base64Binary\" />\n",
    "                    <xs:element minOccurs=\"0\" name=\"Subject\" type=\"xs:string\" />\n",
    "                  </xs:sequence>\n",
    "                </xs:complexType>\n",
    "              </xs:element>\n",
    "            </xs:choice>\n",
    "          </xs:complexType>\n",
    "        </xs:element>\n",
    "      </xs:schema>\n",
    "      <NewDataSet>\n",
    "       <Table>\n",
    "         <CallID>6</CallID>\n",
    "          <Notes>I am a new minimal note!</Notes>\n",
    "          <ContactID>0</ContactID>\n",
    "          <UserDisplayName>Kathleen Reynolds</UserDisplayName>\n",
    "          <ContactName>JP</ContactName>\n",
    "          <Subject>Not a whole lot</Subject>\n",
    "          <ContactDate>2017-09-06T19:25:09</ContactDate>\n",
    "          <ContactLogTypeID>5</ContactLogTypeID>\n",
    "        </Table>\n",
    "      </NewDataSet>\n",
    "    </SchemaandData>"
   ]
  }
 ],
 "metadata": {
  "kernelspec": {
   "display_name": "Python 3",
   "language": "python",
   "name": "python3"
  },
  "language_info": {
   "codemirror_mode": {
    "name": "ipython",
    "version": 3
   },
   "file_extension": ".py",
   "mimetype": "text/x-python",
   "name": "python",
   "nbconvert_exporter": "python",
   "pygments_lexer": "ipython3",
   "version": "3.6.2"
  }
 },
 "nbformat": 4,
 "nbformat_minor": 2
}
